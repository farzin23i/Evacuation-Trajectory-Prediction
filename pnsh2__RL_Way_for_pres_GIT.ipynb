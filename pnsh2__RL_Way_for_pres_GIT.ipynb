{
  "nbformat": 4,
  "nbformat_minor": 0,
  "metadata": {
    "colab": {
      "name": "pnsh2_ RL Way for pres GIT.ipynb",
      "provenance": [],
      "collapsed_sections": [
        "GLhFvigUJqOj",
        "do8dXSqp3MT0",
        "O6WhrFFQaZrz",
        "VoUjx9tOJFP6"
      ],
      "include_colab_link": true
    },
    "kernelspec": {
      "name": "python3",
      "display_name": "Python 3"
    },
    "accelerator": "GPU"
  },
  "cells": [
    {
      "cell_type": "markdown",
      "metadata": {
        "id": "view-in-github",
        "colab_type": "text"
      },
      "source": [
        "<a href=\"https://colab.research.google.com/github/farzin23i/Evacuation-Trajectory-Prediction/blob/main/pnsh2__RL_Way_for_pres_GIT.ipynb\" target=\"_parent\"><img src=\"https://colab.research.google.com/assets/colab-badge.svg\" alt=\"Open In Colab\"/></a>"
      ]
    },
    {
      "cell_type": "code",
      "metadata": {
        "id": "IyLyZHuemHnq"
      },
      "source": [
        "import pandas as pd\n",
        "import numpy as np\n",
        "import pylab as plt\n",
        "import random \n",
        "import math\n",
        "import time\n",
        "from sklearn.preprocessing import MinMaxScaler"
      ],
      "execution_count": null,
      "outputs": []
    },
    {
      "cell_type": "code",
      "metadata": {
        "id": "C6TGeWuJSb4f"
      },
      "source": [
        "plt.style.use('seaborn')"
      ],
      "execution_count": null,
      "outputs": []
    },
    {
      "cell_type": "markdown",
      "metadata": {
        "id": "7FbRaWWtXO4m"
      },
      "source": [
        "## Load and Preprocess Data"
      ]
    },
    {
      "cell_type": "code",
      "metadata": {
        "id": "EvN0vcVjCn9w",
        "colab": {
          "base_uri": "https://localhost:8080/"
        },
        "outputId": "6368daa6-a665-4c48-c395-611d7379ceca"
      },
      "source": [
        "%cd '/content/drive/My Drive/pnsh'"
      ],
      "execution_count": null,
      "outputs": [
        {
          "output_type": "stream",
          "text": [
            "/content/drive/My Drive/pnsh\n"
          ],
          "name": "stdout"
        }
      ]
    },
    {
      "cell_type": "markdown",
      "metadata": {
        "id": "iAFu7OOuIfpN"
      },
      "source": [
        "To try a simpler version, here we use a toy version of dataset "
      ]
    },
    {
      "cell_type": "code",
      "metadata": {
        "id": "J3z1EwTCUEwM"
      },
      "source": [
        "sh3= ['M_1', 'M_2', 'M_3', 'M_4', 'M_5']"
      ],
      "execution_count": null,
      "outputs": []
    },
    {
      "cell_type": "code",
      "metadata": {
        "id": "3gxIhIIESqjY",
        "colab": {
          "base_uri": "https://localhost:8080/",
          "height": 204
        },
        "outputId": "4700977a-c418-4e22-dc8e-2d54113d1758"
      },
      "source": [
        "ex= 3\n",
        "# tn= 4\n",
        "files= [sh3]\n",
        "data= [[]]\n",
        "for i_sh ,sheets in enumerate (files):\n",
        "    for i in sheets:\n",
        "        f= pd.read_excel ('(%d).xlsx' %(ex), sheet_name= i)\n",
        "        data[i_sh].append (f)\n",
        "\n",
        "# Make DataFrames Clean\n",
        "for i_d, d in enumerate (data):\n",
        "    for i in range (len(d)):\n",
        "        d[i].columns = d[i].loc [0]\n",
        "        d[i]= d[i].drop (0, axis= 0)\n",
        "        d[i]= d[i].reset_index()\n",
        "        d[i]= d[i].drop ('index', axis= 1)\n",
        "d01= data[0]\n",
        "# Add person's ID to dataset\n",
        "for i, d in enumerate (data[0]):\n",
        "    d.insert(1, 'Id', np.tile (files[0][i], len(d)))\n",
        "\n",
        "d01[0].head ()"
      ],
      "execution_count": null,
      "outputs": [
        {
          "output_type": "execute_result",
          "data": {
            "text/html": [
              "<div>\n",
              "<style scoped>\n",
              "    .dataframe tbody tr th:only-of-type {\n",
              "        vertical-align: middle;\n",
              "    }\n",
              "\n",
              "    .dataframe tbody tr th {\n",
              "        vertical-align: top;\n",
              "    }\n",
              "\n",
              "    .dataframe thead th {\n",
              "        text-align: right;\n",
              "    }\n",
              "</style>\n",
              "<table border=\"1\" class=\"dataframe\">\n",
              "  <thead>\n",
              "    <tr style=\"text-align: right;\">\n",
              "      <th></th>\n",
              "      <th>t</th>\n",
              "      <th>Id</th>\n",
              "      <th>x</th>\n",
              "      <th>y</th>\n",
              "    </tr>\n",
              "  </thead>\n",
              "  <tbody>\n",
              "    <tr>\n",
              "      <th>0</th>\n",
              "      <td>4.72</td>\n",
              "      <td>M_1</td>\n",
              "      <td>0.110128</td>\n",
              "      <td>0.599096</td>\n",
              "    </tr>\n",
              "    <tr>\n",
              "      <th>1</th>\n",
              "      <td>4.76</td>\n",
              "      <td>M_1</td>\n",
              "      <td>0.246686</td>\n",
              "      <td>0.612311</td>\n",
              "    </tr>\n",
              "    <tr>\n",
              "      <th>2</th>\n",
              "      <td>4.8</td>\n",
              "      <td>M_1</td>\n",
              "      <td>0.39646</td>\n",
              "      <td>0.656362</td>\n",
              "    </tr>\n",
              "    <tr>\n",
              "      <th>3</th>\n",
              "      <td>4.84</td>\n",
              "      <td>M_1</td>\n",
              "      <td>0.56826</td>\n",
              "      <td>0.660767</td>\n",
              "    </tr>\n",
              "    <tr>\n",
              "      <th>4</th>\n",
              "      <td>4.88</td>\n",
              "      <td>M_1</td>\n",
              "      <td>0.713629</td>\n",
              "      <td>0.682793</td>\n",
              "    </tr>\n",
              "  </tbody>\n",
              "</table>\n",
              "</div>"
            ],
            "text/plain": [
              "0     t   Id         x         y\n",
              "0  4.72  M_1  0.110128  0.599096\n",
              "1  4.76  M_1  0.246686  0.612311\n",
              "2   4.8  M_1   0.39646  0.656362\n",
              "3  4.84  M_1   0.56826  0.660767\n",
              "4  4.88  M_1  0.713629  0.682793"
            ]
          },
          "metadata": {
            "tags": []
          },
          "execution_count": 6
        }
      ]
    },
    {
      "cell_type": "code",
      "metadata": {
        "id": "ioMNGQ4s6r_s",
        "colab": {
          "base_uri": "https://localhost:8080/"
        },
        "outputId": "2b805c82-4c93-4ce0-890e-86d973a90283"
      },
      "source": [
        "# Locate the destination for each Ped\n",
        "peds_destin= []\n",
        "for d in d01:\n",
        "    final= d.values[-1]\n",
        "    peds_destin.append(final)\n",
        "peds_destin= np.array(peds_destin)\n",
        "lens= []\n",
        "for d in d01:\n",
        "    lens.append (len (d))\n",
        "max_len= max (lens)\n",
        "print (max_len)\n",
        "# lens"
      ],
      "execution_count": null,
      "outputs": [
        {
          "output_type": "stream",
          "text": [
            "33\n"
          ],
          "name": "stdout"
        }
      ]
    },
    {
      "cell_type": "code",
      "metadata": {
        "id": "zZ7UUWviS8f3",
        "colab": {
          "base_uri": "https://localhost:8080/",
          "height": 1000
        },
        "outputId": "dfa8474c-8150-4af9-8c80-71bf049b3071"
      },
      "source": [
        "for i_d, d in enumerate(d01):\n",
        "    dst= [d.values[-1]]*(max_len-(len(d)))\n",
        "    dst= pd.DataFrame(dst, columns= d.columns)\n",
        "    d01[i_d]= pd.concat ([d, dst], axis=0).reset_index().drop ('index', axis= 1)\n",
        "    d01[i_d].t= d01[i_d].index.values /25\n",
        "d01[4]"
      ],
      "execution_count": null,
      "outputs": [
        {
          "output_type": "execute_result",
          "data": {
            "text/html": [
              "<div>\n",
              "<style scoped>\n",
              "    .dataframe tbody tr th:only-of-type {\n",
              "        vertical-align: middle;\n",
              "    }\n",
              "\n",
              "    .dataframe tbody tr th {\n",
              "        vertical-align: top;\n",
              "    }\n",
              "\n",
              "    .dataframe thead th {\n",
              "        text-align: right;\n",
              "    }\n",
              "</style>\n",
              "<table border=\"1\" class=\"dataframe\">\n",
              "  <thead>\n",
              "    <tr style=\"text-align: right;\">\n",
              "      <th></th>\n",
              "      <th>t</th>\n",
              "      <th>Id</th>\n",
              "      <th>x</th>\n",
              "      <th>y</th>\n",
              "    </tr>\n",
              "  </thead>\n",
              "  <tbody>\n",
              "    <tr>\n",
              "      <th>0</th>\n",
              "      <td>0.00</td>\n",
              "      <td>M_5</td>\n",
              "      <td>0.110128</td>\n",
              "      <td>0.422891</td>\n",
              "    </tr>\n",
              "    <tr>\n",
              "      <th>1</th>\n",
              "      <td>0.04</td>\n",
              "      <td>M_5</td>\n",
              "      <td>0.193825</td>\n",
              "      <td>0.414081</td>\n",
              "    </tr>\n",
              "    <tr>\n",
              "      <th>2</th>\n",
              "      <td>0.08</td>\n",
              "      <td>M_5</td>\n",
              "      <td>0.286332</td>\n",
              "      <td>0.427296</td>\n",
              "    </tr>\n",
              "    <tr>\n",
              "      <th>3</th>\n",
              "      <td>0.12</td>\n",
              "      <td>M_5</td>\n",
              "      <td>0.38765</td>\n",
              "      <td>0.422891</td>\n",
              "    </tr>\n",
              "    <tr>\n",
              "      <th>4</th>\n",
              "      <td>0.16</td>\n",
              "      <td>M_5</td>\n",
              "      <td>0.488968</td>\n",
              "      <td>0.431701</td>\n",
              "    </tr>\n",
              "    <tr>\n",
              "      <th>5</th>\n",
              "      <td>0.20</td>\n",
              "      <td>M_5</td>\n",
              "      <td>0.621121</td>\n",
              "      <td>0.436106</td>\n",
              "    </tr>\n",
              "    <tr>\n",
              "      <th>6</th>\n",
              "      <td>0.24</td>\n",
              "      <td>M_5</td>\n",
              "      <td>0.722439</td>\n",
              "      <td>0.462537</td>\n",
              "    </tr>\n",
              "    <tr>\n",
              "      <th>7</th>\n",
              "      <td>0.28</td>\n",
              "      <td>M_5</td>\n",
              "      <td>0.841377</td>\n",
              "      <td>0.462537</td>\n",
              "    </tr>\n",
              "    <tr>\n",
              "      <th>8</th>\n",
              "      <td>0.32</td>\n",
              "      <td>M_5</td>\n",
              "      <td>0.960315</td>\n",
              "      <td>0.484563</td>\n",
              "    </tr>\n",
              "    <tr>\n",
              "      <th>9</th>\n",
              "      <td>0.36</td>\n",
              "      <td>M_5</td>\n",
              "      <td>1.05723</td>\n",
              "      <td>0.488968</td>\n",
              "    </tr>\n",
              "    <tr>\n",
              "      <th>10</th>\n",
              "      <td>0.40</td>\n",
              "      <td>M_5</td>\n",
              "      <td>1.16295</td>\n",
              "      <td>0.519804</td>\n",
              "    </tr>\n",
              "    <tr>\n",
              "      <th>11</th>\n",
              "      <td>0.44</td>\n",
              "      <td>M_5</td>\n",
              "      <td>1.2907</td>\n",
              "      <td>0.528614</td>\n",
              "    </tr>\n",
              "    <tr>\n",
              "      <th>12</th>\n",
              "      <td>0.48</td>\n",
              "      <td>M_5</td>\n",
              "      <td>1.40083</td>\n",
              "      <td>0.541829</td>\n",
              "    </tr>\n",
              "    <tr>\n",
              "      <th>13</th>\n",
              "      <td>0.52</td>\n",
              "      <td>M_5</td>\n",
              "      <td>1.49333</td>\n",
              "      <td>0.57707</td>\n",
              "    </tr>\n",
              "    <tr>\n",
              "      <th>14</th>\n",
              "      <td>0.56</td>\n",
              "      <td>M_5</td>\n",
              "      <td>1.59025</td>\n",
              "      <td>0.590285</td>\n",
              "    </tr>\n",
              "    <tr>\n",
              "      <th>15</th>\n",
              "      <td>0.60</td>\n",
              "      <td>M_5</td>\n",
              "      <td>1.68275</td>\n",
              "      <td>0.590285</td>\n",
              "    </tr>\n",
              "    <tr>\n",
              "      <th>16</th>\n",
              "      <td>0.64</td>\n",
              "      <td>M_5</td>\n",
              "      <td>1.77967</td>\n",
              "      <td>0.603501</td>\n",
              "    </tr>\n",
              "    <tr>\n",
              "      <th>17</th>\n",
              "      <td>0.68</td>\n",
              "      <td>M_5</td>\n",
              "      <td>1.86777</td>\n",
              "      <td>0.643147</td>\n",
              "    </tr>\n",
              "    <tr>\n",
              "      <th>18</th>\n",
              "      <td>0.72</td>\n",
              "      <td>M_5</td>\n",
              "      <td>1.9823</td>\n",
              "      <td>0.651957</td>\n",
              "    </tr>\n",
              "    <tr>\n",
              "      <th>19</th>\n",
              "      <td>0.76</td>\n",
              "      <td>M_5</td>\n",
              "      <td>2.07481</td>\n",
              "      <td>0.687198</td>\n",
              "    </tr>\n",
              "    <tr>\n",
              "      <th>20</th>\n",
              "      <td>0.80</td>\n",
              "      <td>M_5</td>\n",
              "      <td>2.17613</td>\n",
              "      <td>0.713629</td>\n",
              "    </tr>\n",
              "    <tr>\n",
              "      <th>21</th>\n",
              "      <td>0.84</td>\n",
              "      <td>M_5</td>\n",
              "      <td>2.24661</td>\n",
              "      <td>0.740059</td>\n",
              "    </tr>\n",
              "    <tr>\n",
              "      <th>22</th>\n",
              "      <td>0.88</td>\n",
              "      <td>M_5</td>\n",
              "      <td>2.33912</td>\n",
              "      <td>0.75768</td>\n",
              "    </tr>\n",
              "    <tr>\n",
              "      <th>23</th>\n",
              "      <td>0.92</td>\n",
              "      <td>M_5</td>\n",
              "      <td>2.39638</td>\n",
              "      <td>0.784111</td>\n",
              "    </tr>\n",
              "    <tr>\n",
              "      <th>24</th>\n",
              "      <td>0.96</td>\n",
              "      <td>M_5</td>\n",
              "      <td>2.4977</td>\n",
              "      <td>0.797326</td>\n",
              "    </tr>\n",
              "    <tr>\n",
              "      <th>25</th>\n",
              "      <td>1.00</td>\n",
              "      <td>M_5</td>\n",
              "      <td>2.60342</td>\n",
              "      <td>0.845782</td>\n",
              "    </tr>\n",
              "    <tr>\n",
              "      <th>26</th>\n",
              "      <td>1.04</td>\n",
              "      <td>M_5</td>\n",
              "      <td>2.70915</td>\n",
              "      <td>0.845782</td>\n",
              "    </tr>\n",
              "    <tr>\n",
              "      <th>27</th>\n",
              "      <td>1.08</td>\n",
              "      <td>M_5</td>\n",
              "      <td>2.78403</td>\n",
              "      <td>0.867808</td>\n",
              "    </tr>\n",
              "    <tr>\n",
              "      <th>28</th>\n",
              "      <td>1.12</td>\n",
              "      <td>M_5</td>\n",
              "      <td>2.86773</td>\n",
              "      <td>0.872213</td>\n",
              "    </tr>\n",
              "    <tr>\n",
              "      <th>29</th>\n",
              "      <td>1.16</td>\n",
              "      <td>M_5</td>\n",
              "      <td>2.96024</td>\n",
              "      <td>0.858997</td>\n",
              "    </tr>\n",
              "    <tr>\n",
              "      <th>30</th>\n",
              "      <td>1.20</td>\n",
              "      <td>M_5</td>\n",
              "      <td>3.05274</td>\n",
              "      <td>0.867808</td>\n",
              "    </tr>\n",
              "    <tr>\n",
              "      <th>31</th>\n",
              "      <td>1.24</td>\n",
              "      <td>M_5</td>\n",
              "      <td>3.12323</td>\n",
              "      <td>0.881023</td>\n",
              "    </tr>\n",
              "    <tr>\n",
              "      <th>32</th>\n",
              "      <td>1.28</td>\n",
              "      <td>M_5</td>\n",
              "      <td>3.21573</td>\n",
              "      <td>0.872213</td>\n",
              "    </tr>\n",
              "  </tbody>\n",
              "</table>\n",
              "</div>"
            ],
            "text/plain": [
              "0      t   Id         x         y\n",
              "0   0.00  M_5  0.110128  0.422891\n",
              "1   0.04  M_5  0.193825  0.414081\n",
              "2   0.08  M_5  0.286332  0.427296\n",
              "3   0.12  M_5   0.38765  0.422891\n",
              "4   0.16  M_5  0.488968  0.431701\n",
              "5   0.20  M_5  0.621121  0.436106\n",
              "6   0.24  M_5  0.722439  0.462537\n",
              "7   0.28  M_5  0.841377  0.462537\n",
              "8   0.32  M_5  0.960315  0.484563\n",
              "9   0.36  M_5   1.05723  0.488968\n",
              "10  0.40  M_5   1.16295  0.519804\n",
              "11  0.44  M_5    1.2907  0.528614\n",
              "12  0.48  M_5   1.40083  0.541829\n",
              "13  0.52  M_5   1.49333   0.57707\n",
              "14  0.56  M_5   1.59025  0.590285\n",
              "15  0.60  M_5   1.68275  0.590285\n",
              "16  0.64  M_5   1.77967  0.603501\n",
              "17  0.68  M_5   1.86777  0.643147\n",
              "18  0.72  M_5    1.9823  0.651957\n",
              "19  0.76  M_5   2.07481  0.687198\n",
              "20  0.80  M_5   2.17613  0.713629\n",
              "21  0.84  M_5   2.24661  0.740059\n",
              "22  0.88  M_5   2.33912   0.75768\n",
              "23  0.92  M_5   2.39638  0.784111\n",
              "24  0.96  M_5    2.4977  0.797326\n",
              "25  1.00  M_5   2.60342  0.845782\n",
              "26  1.04  M_5   2.70915  0.845782\n",
              "27  1.08  M_5   2.78403  0.867808\n",
              "28  1.12  M_5   2.86773  0.872213\n",
              "29  1.16  M_5   2.96024  0.858997\n",
              "30  1.20  M_5   3.05274  0.867808\n",
              "31  1.24  M_5   3.12323  0.881023\n",
              "32  1.28  M_5   3.21573  0.872213"
            ]
          },
          "metadata": {
            "tags": []
          },
          "execution_count": 8
        }
      ]
    },
    {
      "cell_type": "code",
      "metadata": {
        "id": "jHwtd_-1Tz3d",
        "colab": {
          "base_uri": "https://localhost:8080/",
          "height": 347
        },
        "outputId": "b7675f84-fbae-49d3-ef79-c1715c47aacf"
      },
      "source": [
        "# Visualiza the Experiment Data\n",
        "i_d= 0\n",
        "X, Y= [[]], [[]]\n",
        "# for i_d, d in enumerate (data):\n",
        "for i in range (len(d01)): \n",
        "    X[i_d].append (np.array (d01[i].x))\n",
        "    Y[i_d].append (np.array (d01[i].y))\n",
        "for i in range (len (data[i_d])):\n",
        "    plt.plot (X[i_d][i], Y[i_d][i], '.');\n",
        "plt.show ()"
      ],
      "execution_count": null,
      "outputs": [
        {
          "output_type": "display_data",
          "data": {
            "image/png": "[encoded data removed]",
            "text/plain": [
              "<Figure size 576x396 with 1 Axes>"
            ]
          },
          "metadata": {
            "tags": []
          }
        }
      ]
    },
    {
      "cell_type": "code",
      "metadata": {
        "id": "NIGnTLmrPiWL",
        "colab": {
          "base_uri": "https://localhost:8080/",
          "height": 364
        },
        "outputId": "deff270b-26f4-4128-fba7-dcbff5d6e3f7"
      },
      "source": [
        "# Make a single array of the whole data and scale them; Then we feed the array \"dataset\" to the frame dataset generator.\n",
        "i_d=0\n",
        "dataset= np.zeros([1,4])\n",
        "for i, d in enumerate (d01):\n",
        "    dataset= np.append (dataset, d.values, axis= 0)\n",
        "dataset= np.delete (dataset, 0, axis= 0)       \n",
        "maxscl= 20\n",
        "# Scale features to range (0,1)\n",
        "scaler = MinMaxScaler((0,maxscl-1))\n",
        "dataset[:, [2,3]]= scaler.fit_transform(dataset[:, [2,3]])\n",
        "\n",
        "plt.plot (dataset[:,2], dataset[:,3], '.')"
      ],
      "execution_count": null,
      "outputs": [
        {
          "output_type": "execute_result",
          "data": {
            "text/plain": [
              "[<matplotlib.lines.Line2D at 0x7f14269c9a90>]"
            ]
          },
          "metadata": {
            "tags": []
          },
          "execution_count": 10
        },
        {
          "output_type": "display_data",
          "data": {
            "image/png": "[encoded data removed]",
            "text/plain": [
              "<Figure size 576x396 with 1 Axes>"
            ]
          },
          "metadata": {
            "tags": []
          }
        }
      ]
    },
    {
      "cell_type": "markdown",
      "metadata": {
        "id": "Z91ymsr8W-lT"
      },
      "source": [
        "We will widen the rout lines to better guid the players. "
      ]
    },
    {
      "cell_type": "code",
      "metadata": {
        "colab": {
          "base_uri": "https://localhost:8080/",
          "height": 364
        },
        "id": "jktt9Sk2RztB",
        "outputId": "b2c714cd-cb36-4403-a244-be5ff34bd663"
      },
      "source": [
        "rts= np.array ([dataset[:,2], dataset[:,3]], dtype= np.float32)\n",
        "rts= np.uint16(np.rint (rts))\n",
        "\n",
        "rts_dense= []\n",
        "for i in range (len(rts[1])):\n",
        "    for x_ in range (-1, 3):\n",
        "        # for y_ in range (-1, 2):\n",
        "            rts_dense.append([rts[0,i] + x_, rts[1,i] + 0])\n",
        "rts_dense= np.array (rts_dense)\n",
        "plt.plot (rts_dense[:,0], rts_dense[:,1], '.')"
      ],
      "execution_count": null,
      "outputs": [
        {
          "output_type": "execute_result",
          "data": {
            "text/plain": [
              "[<matplotlib.lines.Line2D at 0x7f1426ea7ef0>]"
            ]
          },
          "metadata": {
            "tags": []
          },
          "execution_count": 11
        },
        {
          "output_type": "display_data",
          "data": {
            "image/png": "[encoded data removed]",
            "text/plain": [
              "<Figure size 576x396 with 1 Axes>"
            ]
          },
          "metadata": {
            "tags": []
          }
        }
      ]
    },
    {
      "cell_type": "code",
      "metadata": {
        "id": "AzRBPYE5PngV"
      },
      "source": [
        "num_peds= len (np.unique(dataset[:, 1])) \n",
        "\n",
        "# Get the frames in dataset, We will train the machine frame by frame, in each frame may be 1-maxNumPed persons in room. \n",
        "num_frames = np.unique(dataset[:, 0])\n",
        "\n",
        "# Initialize the array of frames for the current dataset\n",
        "frames_dataset = []\n",
        "for f in num_frames:\n",
        "    # Get the pedestrians\n",
        "    frame = dataset[dataset[:, 0] == f, :]\n",
        "    frames_dataset.append(frame)\n",
        "\n",
        "frames_dataset= np.array (frames_dataset)"
      ],
      "execution_count": null,
      "outputs": []
    },
    {
      "cell_type": "code",
      "metadata": {
        "id": "5hhVpfHcS03m"
      },
      "source": [
        "def make_frame (inp):\n",
        "    nav= np.zeros ([maxscl*c+1, maxscl*c+1])\n",
        "    x_inp= np.uint8 (inp[:, -2])\n",
        "    y_inp= np.uint8 (inp[:, -1])\n",
        "    nav[x_inp, y_inp] = 1\n",
        "    return nav\n",
        "# [np.sum(make_frame (frames_dataset[i])) for i in range (max_len) ]"
      ],
      "execution_count": null,
      "outputs": []
    },
    {
      "cell_type": "markdown",
      "metadata": {
        "id": "D7jNZj9lYvkr"
      },
      "source": [
        "## RL"
      ]
    },
    {
      "cell_type": "code",
      "metadata": {
        "id": "46NW2BEkJkWw",
        "colab": {
          "base_uri": "https://localhost:8080/"
        },
        "outputId": "3bba4968-f381-416e-a3a3-08bc183bf947"
      },
      "source": [
        "%tensorflow_version 1.x\n",
        "from keras.models import Sequential\n",
        "from keras.layers import Dense, Dropout, Conv2D, MaxPooling2D, Activation, Flatten, Reshape\n",
        "from keras.optimizers import Adam\n",
        "from keras.callbacks import TensorBoard\n",
        "import tensorflow as tf\n",
        "from collections import deque\n",
        "import time\n",
        "import random\n",
        "from tqdm import tqdm\n",
        "\n",
        "import os\n",
        "from PIL import Image\n",
        "import cv2\n"
      ],
      "execution_count": null,
      "outputs": [
        {
          "output_type": "stream",
          "text": [
            "TensorFlow 1.x selected.\n"
          ],
          "name": "stdout"
        },
        {
          "output_type": "stream",
          "text": [
            "Using TensorFlow backend.\n"
          ],
          "name": "stderr"
        }
      ]
    },
    {
      "cell_type": "code",
      "metadata": {
        "id": "8qE2yq1HVxpE"
      },
      "source": [
        "SIZE= maxscl\n",
        "DISCOUNT = 0.99\n",
        "REPLAY_MEMORY_SIZE = 50_000  # How many last steps to keep for model training\n",
        "MIN_REPLAY_MEMORY_SIZE = 1_000  # Minimum number of steps in a memory to start training\n",
        "MINIBATCH_SIZE = 64  # How many steps (samples) to use for training\n",
        "UPDATE_TARGET_EVERY = 5  # Terminal states (end of episodes)\n",
        "MODEL_NAME = f'ex{ex}'\n",
        "\n",
        "MEMORY_FRACTION = 0.20\n",
        "\n",
        "#  Stats settings\n",
        "AGGREGATE_STATS_EVERY = 100  # episodes\n",
        "SHOW_PREVIEW = True"
      ],
      "execution_count": null,
      "outputs": []
    },
    {
      "cell_type": "markdown",
      "metadata": {
        "id": "GLhFvigUJqOj"
      },
      "source": [
        "### Own Tensorboard class"
      ]
    },
    {
      "cell_type": "code",
      "metadata": {
        "id": "xxA5Wk42cyIL"
      },
      "source": [
        "class ModifiedTensorBoard(TensorBoard):\n",
        "\n",
        "    # Overriding init to set initial step and writer (we want one log file for all .fit() calls)\n",
        "    def __init__(self, **kwargs):\n",
        "        super().__init__(**kwargs)\n",
        "        self.step = 1\n",
        "        self.writer = tf.summary.FileWriter(self.log_dir)\n",
        "\n",
        "    # Overriding this method to stop creating default log writer\n",
        "    def set_model(self, model):\n",
        "        pass\n",
        "\n",
        "    # Overrided, saves logs with our step number\n",
        "    # (otherwise every .fit() will start writing from 0th step)\n",
        "    def on_epoch_end(self, epoch, logs=None):\n",
        "        self.update_stats(**logs)\n",
        "\n",
        "    # Overrided\n",
        "    # We train for one batch only, no need to save anything at epoch end\n",
        "    def on_batch_end(self, batch, logs=None):\n",
        "        pass\n",
        "\n",
        "    # Overrided, so won't close writer\n",
        "    def on_train_end(self, _):\n",
        "        pass\n",
        "\n",
        "    # Custom method for saving own metrics\n",
        "    # Creates writer, writes custom metrics and closes writer\n",
        "    def update_stats(self, **stats):\n",
        "        self._write_logs(stats, self.step)"
      ],
      "execution_count": null,
      "outputs": []
    },
    {
      "cell_type": "markdown",
      "metadata": {
        "id": "do8dXSqp3MT0"
      },
      "source": [
        "### Blob"
      ]
    },
    {
      "cell_type": "markdown",
      "metadata": {
        "id": "wgN4UNr7QOxZ"
      },
      "source": [
        "The aim of defining a Blob class is to have pedestrians and their movements. <br>\n",
        "The coordinates can be initialized from the dataset, or randomly"
      ]
    },
    {
      "cell_type": "code",
      "metadata": {
        "id": "LgWjYKI229vt"
      },
      "source": [
        "class Blob:\n",
        "    def __init__(self, x_inp= None, y_inp= None):\n",
        "        if x_inp is None:\n",
        "            self.x = np.random.randint(0, SIZE)\n",
        "            self.y = np.random.randint(0, SIZE)\n",
        "        else:\n",
        "            self.x = x_inp\n",
        "            self.y = y_inp\n",
        "\n",
        "    def action (self, choice):\n",
        "        '''\n",
        "        Gives us 6 total movement options. (0,1,2,3,4,5), we encode each posibility of going through doors.\n",
        "        '''\n",
        "        if self.x >= SIZE-1 and self.y in door_y: \n",
        "            choice= 0\n",
        "        else: \n",
        "            if choice == 0:\n",
        "                self.move(x=0, y=0)               \n",
        "            elif choice == 1:\n",
        "                self.move(x=1, y=1)\n",
        "            elif choice == 2:\n",
        "                self.move(x=1, y=-1)\n",
        "            elif choice == 3:\n",
        "                self.move(x=1, y=0)\n",
        "            elif choice == 4:\n",
        "                self.move(x=0, y=1)\n",
        "            elif choice == 5:\n",
        "                self.move(x=0, y=-1)\n",
        "\n",
        "    def move(self, x=False, y=False):\n",
        "        # If no value for x, move randomly\n",
        "        if not x:\n",
        "            self.x += np.random.randint(0, 2)\n",
        "        else:\n",
        "            self.x += x\n",
        "        # If no value for y, move randomly\n",
        "        if not y:\n",
        "            self.y += np.random.randint(-1, 2)\n",
        "        else:\n",
        "            self.y += y\n",
        "        # If we have reached door, fix!\n",
        "        if self.x == SIZE-1 and self.y in door_y:\n",
        "            self.x = SIZE-1\n",
        "            # self.y = \n",
        "        # If we are out of bounds, fix!\n",
        "        elif self.x > SIZE-2 and self.y not in door_y:\n",
        "            self.x = SIZE-2\n",
        "        if self.y < 0:\n",
        "            self.y = 0\n",
        "        elif self.y > SIZE-1:\n",
        "            self.y = SIZE-1\n",
        "\n",
        "class Navigation:\n",
        "    def __init__(self, coo_inp= None):\n",
        "        if coo_inp is None:\n",
        "            self.coo= np.random.randint(0, SIZE, size= (num_peds, 2))\n",
        "        else:\n",
        "            self.coo= coo_inp\n",
        "\n",
        "\n",
        "# Put a door in the room\n",
        "door_y= np.arange(np.floor(min(frames_dataset[-1, :, -1])), np.ceil(max(frames_dataset[-1, :, -1]) ))\n",
        "door_x= (SIZE-1) * np.ones (len(door_y))\n",
        "door_coo= np.array(list(zip (door_x, door_y)))\n",
        "door= Navigation (door_coo)\n",
        "\n",
        "rts_dense= np.append (rts_dense, door_coo, axis= 0)"
      ],
      "execution_count": null,
      "outputs": []
    },
    {
      "cell_type": "code",
      "metadata": {
        "id": "k7l3ezLgVt27"
      },
      "source": [
        "def get_coo (peds):\n",
        "    X= [peds[i].x for i in range(len(peds))]\n",
        "    Y= [peds[i].y for i in range(len(peds))]\n",
        "    return X, Y\n"
      ],
      "execution_count": null,
      "outputs": []
    },
    {
      "cell_type": "markdown",
      "metadata": {
        "id": "O6WhrFFQaZrz"
      },
      "source": [
        "### Env"
      ]
    },
    {
      "cell_type": "markdown",
      "metadata": {
        "id": "f83Ha9EuTwZJ"
      },
      "source": [
        "This is where we introduce the rules to players. <br>\n",
        "If they colide, they loose. <br>\n",
        "If they hesitate they give penalty <br>\n",
        "Remaining in denoted lines is appreciated <br>\n",
        "The ultimate goal is that everyone would be out from doors. "
      ]
    },
    {
      "cell_type": "code",
      "metadata": {
        "id": "JdLbva_4G9HJ"
      },
      "source": [
        "class BlobEnv:\n",
        "    SIZE = maxscl\n",
        "    RETURN_IMAGES = True\n",
        "\n",
        "    MOVE_PENALTY = 5\n",
        "    ENEMY_PENALTY = MOVE_PENALTY + 2\n",
        "    FOOD_REWARD = 3\n",
        "    \n",
        "    OBSERVATION_SPACE_VALUES = (SIZE+1, SIZE, 3)  # 4\n",
        "    ACTION_SPACE_SIZE = 6\n",
        "    PLAYER_N = 1  # player key in dict\n",
        "    FOOD_N = 2  # food key in dict\n",
        "    ENEMY_N = 3  # enemy key in dict\n",
        "    d = {1: [(255, i, 0) for i in np.linspace (10, 255, num_peds, dtype= 'int')],\n",
        "         2: (0, 255, 0),\n",
        "         3: (0, 0, 255)}\n",
        "\n",
        "    def reset(self):\n",
        "        peds= []\n",
        "        for i in range (num_peds):\n",
        "            peds.append (Blob (np.rint(frames_dataset[0, i, 2]), np.rint(frames_dataset[0, i, 3])))\n",
        "        self.player = peds\n",
        "        self.food = door\n",
        "        self.episode_step = 0\n",
        "        observation = np.array(self.get_image())\n",
        "        return observation\n",
        "\n",
        "    def step(self, action):\n",
        "        self.episode_step += 1\n",
        "        for i in range (num_peds):\n",
        "            self.player[i].action(action[i])\n",
        "\n",
        "        new_observation = np.array(self.get_image())\n",
        "\n",
        "        indir_rew= np.array ([int([self.player[i].x, self.player[i].y] in rts_dense.tolist()) for i in range (num_peds)]) ### check if moved in Directions\n",
        "        outdir_penalty= np.array ([int([self.player[i].x, self.player[i].y] not in rts_dense.tolist()) for i in range (num_peds)])\n",
        "        arrival_rew= np.array ([int(self.player[i].x >= SIZE-1 and min(door_y) <= self.player[i].y <= max(door_y)) for i in range (num_peds)])\n",
        "\n",
        "        collision= np.zeros (num_peds, dtype= 'bool')\n",
        "        for i in range (0,num_peds-1):\n",
        "            if self.player[i].x < self.SIZE-1 :\n",
        "                j= i+1\n",
        "                coll = False\n",
        "                while not coll and j<num_peds:\n",
        "                    coll= [self.player[i].x, self.player[i].y] in np.array(get_coo (self.player)).T.tolist()[j:]\n",
        "                    collision[[i,j]]+= coll\n",
        "                    j+= 1\n",
        "\n",
        "        all_arrived = sum(arrival_rew) == num_peds\n",
        "        COLL= sum(collision) != 0\n",
        "        if all_arrived:\n",
        "            reward = self.FOOD_REWARD*arrival_rew + indir_rew\n",
        "        else:\n",
        "            reward = self.FOOD_REWARD*arrival_rew + indir_rew - self.MOVE_PENALTY*outdir_penalty -self.ENEMY_PENALTY * collision\n",
        "        done = False\n",
        "\n",
        "        if all_arrived or COLL or self.episode_step >= max_len*1.3:\n",
        "            done = True\n",
        "\n",
        "        return new_observation, reward, done\n",
        "\n",
        "    def render(self, env_rn, plyr):\n",
        "        env_rn [np.uint8(get_coo(plyr)[0]), np.uint8(get_coo(plyr)[1])]= self.d[self.PLAYER_N]\n",
        "        return env_rn \n",
        "\n",
        "    # FOR CNN #\n",
        "    def get_image(self):\n",
        "        env = np.zeros((self.SIZE+1, self.SIZE, 3), dtype=np.uint8)  # starts an rbg of our size\n",
        "        env [np.uint16(self.food.coo.T)[0], np.uint16(self.food.coo.T)[1]]= self.d[self.FOOD_N]  # sets the food location tile to green color\n",
        "        env [np.uint16(get_coo(self.player)[0]), np.uint16(get_coo(self.player)[1])]= self.d[self.PLAYER_N]  # sets the player tile to blue\n",
        "        img = Image.fromarray(env, 'RGB')  \n",
        "        return img\n",
        "    def get_env(self):\n",
        "        env = np.zeros((self.SIZE+1, self.SIZE, 3), dtype=np.uint8)  # starts an rbg of our size\n",
        "        env [np.uint16(self.food.coo.T)[0], np.uint16(self.food.coo.T)[1]]= self.d[self.FOOD_N]  # sets the food location tile to green color\n",
        "        return env\n",
        "\n",
        "env = BlobEnv()"
      ],
      "execution_count": null,
      "outputs": []
    },
    {
      "cell_type": "code",
      "metadata": {
        "id": "l-YVczh420RR"
      },
      "source": [
        "# env.reset()\n",
        "# env.step (np.random.randint (0,6,size= 21))\n",
        "# plt.imshow(env.get_image())\n",
        "# env.render()\n",
        "\n",
        "# env.player [2].y"
      ],
      "execution_count": null,
      "outputs": []
    },
    {
      "cell_type": "code",
      "metadata": {
        "id": "rCpmy6aXHTVq"
      },
      "source": [
        "# i= 3\n",
        "# j= 4\n",
        "\n",
        "# env.player[j].x= SIZE-2\n",
        "# env.player[i].x, env.player[i].y= [env.player[j].x, env.player[j].y]\n",
        "# np.array(get_coo (env.player)).T.tolist()\n",
        "\n",
        "# collision= np.zeros (num_peds, dtype = 'bool')\n",
        "# for i in range (0,num_peds-1):\n",
        "#     if env.player[i].x < env.SIZE-1 :\n",
        "#         j= i+1\n",
        "#         coll = False\n",
        "#         while not coll and j<num_peds:\n",
        "#             coll= [env.player[i].x, env.player[i].y] in np.array(get_coo (env.player)).T.tolist()[j:]\n",
        "#             collision[[i,j]]+= coll \n",
        "#             j+= 1\n",
        "#             print (collision)\n"
      ],
      "execution_count": null,
      "outputs": []
    },
    {
      "cell_type": "code",
      "metadata": {
        "id": "z_c4puKCmiKi"
      },
      "source": [
        "# env.reset()\n",
        "\n",
        "# for i in range (300):\n",
        "#     a= env.step(np.random.randint(0,6, size= num_peds))\n",
        "#     if a[-1] :\n",
        "#         break\n",
        "# plt.imshow(env.get_image())"
      ],
      "execution_count": null,
      "outputs": []
    },
    {
      "cell_type": "markdown",
      "metadata": {
        "id": "VoUjx9tOJFP6"
      },
      "source": [
        "### Agent Class"
      ]
    },
    {
      "cell_type": "code",
      "metadata": {
        "id": "6TaRvemBG9Jg",
        "colab": {
          "base_uri": "https://localhost:8080/"
        },
        "outputId": "4e5da198-93d7-4253-a12b-b0b8373f9d6f"
      },
      "source": [
        "# Agent class\n",
        "class DQNAgent:\n",
        "    def __init__(self):\n",
        "\n",
        "        # Main model\n",
        "        self.model = self.create_model()\n",
        "\n",
        "        # Target network\n",
        "        self.target_model = self.create_model()\n",
        "        self.target_model.set_weights(self.model.get_weights())\n",
        "\n",
        "        # An array with last n steps for training\n",
        "        self.replay_memory = deque(maxlen=REPLAY_MEMORY_SIZE)\n",
        "\n",
        "        # Custom tensorboard object\n",
        "        self.tensorboard = ModifiedTensorBoard(log_dir=\"logs/{}-{}\".format(MODEL_NAME, int(time.time())))\n",
        "\n",
        "        # Used to count when to update target network with main network's weights\n",
        "        self.target_update_counter = 0\n",
        "\n",
        "    def create_model(self):\n",
        "        model = Sequential()\n",
        "\n",
        "        model.add(Conv2D(256, (3, 3), input_shape= env.OBSERVATION_SPACE_VALUES))  # OBSERVATION_SPACE_VALUES = (10, 10, 3) a 10x10 RGB image.\n",
        "        model.add(Activation('relu'))\n",
        "        model.add(MaxPooling2D(pool_size=(2, 2)))\n",
        "        model.add(Dropout(0.2))\n",
        "\n",
        "        model.add(Conv2D(256, (3, 3)))\n",
        "        model.add(Activation('relu'))\n",
        "        model.add(MaxPooling2D(pool_size=(2, 2)))\n",
        "        model.add(Dropout(0.2))\n",
        "\n",
        "        model.add(Flatten())  # this converts our 3D feature maps to 1D feature vectors\n",
        "        model.add(Dense(256))\n",
        "\n",
        "        model.add(Dense(env.ACTION_SPACE_SIZE * num_peds, activation='linear'))  # ACTION_SPACE_SIZE = how many choices (6)\n",
        "        model.add(Reshape ([num_peds, env.ACTION_SPACE_SIZE]))\n",
        "        model.compile(loss=\"mse\", optimizer=Adam(lr=0.001), metrics=['accuracy'])\n",
        "        return model\n",
        "\n",
        "    # Adds step's data to a memory replay array\n",
        "    # (observation space, action, reward, new observation space, done)\n",
        "    def update_replay_memory(self, transition):\n",
        "        self.replay_memory.append(transition)\n",
        "\n",
        "    # Trains main network every step during episode\n",
        "    def train(self, terminal_state, step):\n",
        "\n",
        "        # Start training only if certain number of samples is already saved\n",
        "        if len(self.replay_memory) < MIN_REPLAY_MEMORY_SIZE:\n",
        "            return\n",
        "\n",
        "        # Get a minibatch of random samples from memory replay table\n",
        "        minibatch = random.sample(self.replay_memory, MINIBATCH_SIZE)\n",
        "\n",
        "        # Get current states from minibatch, then query NN model for Q values\n",
        "        current_states = np.array([transition[0] for transition in minibatch])/255\n",
        "        current_qs_list = self.model.predict(current_states)\n",
        "\n",
        "        # Get future states from minibatch, then query NN model for Q values\n",
        "        # When using target network, query it, otherwise main network should be queried\n",
        "        new_current_states = np.array([transition[3] for transition in minibatch])/255\n",
        "        future_qs_list = self.target_model.predict(new_current_states)\n",
        "\n",
        "        X = []\n",
        "        y = []\n",
        "\n",
        "        # Now we need to enumerate our batches\n",
        "        for index, (current_state, action, reward, new_current_state, done) in enumerate(minibatch):\n",
        "\n",
        "            # If not a terminal state, get new q from future states, otherwise set it to 0\n",
        "            # almost like with Q Learning, but we use just part of equation here\n",
        "            if not done:\n",
        "                max_future_q = np.max(future_qs_list[index], axis= 1) #\n",
        "                new_q = reward + DISCOUNT * max_future_q                #\n",
        "            else:\n",
        "                new_q = reward\n",
        "\n",
        "            # Update Q value for given state\n",
        "            current_qs = current_qs_list[index]\n",
        "            current_qs[np.arange(num_peds), action] = new_q\n",
        "\n",
        "            # And append to our training data\n",
        "            X.append(current_state)\n",
        "            y.append(current_qs)\n",
        "\n",
        "        # Fit on all samples as one batch, log only on terminal state\n",
        "        self.model.fit(np.array(X)/255, np.array(y), batch_size=MINIBATCH_SIZE, verbose=0, shuffle=False,\n",
        "                       callbacks=[self.tensorboard] if terminal_state else None)\n",
        "\n",
        "        # Update target network counter every episode\n",
        "        if terminal_state:\n",
        "            self.target_update_counter += 1\n",
        "\n",
        "        # If counter reaches set value, update target network with weights of main network\n",
        "        if self.target_update_counter > UPDATE_TARGET_EVERY:\n",
        "            self.target_model.set_weights(self.model.get_weights())\n",
        "            self.target_update_counter = 0\n",
        "\n",
        "    # Queries main network for Q values given current observation space (environment state)\n",
        "    def get_qs(self, state):\n",
        "        return self.model.predict(np.array(state).reshape(-1, *state.shape)/255)[0]\n",
        "\n",
        "\n",
        "agent = DQNAgent()"
      ],
      "execution_count": null,
      "outputs": [
        {
          "output_type": "stream",
          "text": [
            "WARNING:tensorflow:From /tensorflow-1.15.2/python3.6/tensorflow_core/python/ops/resource_variable_ops.py:1630: calling BaseResourceVariable.__init__ (from tensorflow.python.ops.resource_variable_ops) with constraint is deprecated and will be removed in a future version.\n",
            "Instructions for updating:\n",
            "If using Keras pass *_constraint arguments to layers.\n",
            "WARNING:tensorflow:From /tensorflow-1.15.2/python3.6/keras/backend/tensorflow_backend.py:4070: The name tf.nn.max_pool is deprecated. Please use tf.nn.max_pool2d instead.\n",
            "\n"
          ],
          "name": "stdout"
        }
      ]
    },
    {
      "cell_type": "code",
      "metadata": {
        "id": "RWaLuVE8UkD-",
        "colab": {
          "base_uri": "https://localhost:8080/"
        },
        "outputId": "7a087939-b5a0-4e14-919c-3854ed9832a2"
      },
      "source": [
        "print(agent.create_model().summary())"
      ],
      "execution_count": null,
      "outputs": [
        {
          "output_type": "stream",
          "text": [
            "Model: \"sequential_3\"\n",
            "_________________________________________________________________\n",
            "Layer (type)                 Output Shape              Param #   \n",
            "=================================================================\n",
            "conv2d_5 (Conv2D)            (None, 19, 18, 256)       7168      \n",
            "_________________________________________________________________\n",
            "activation_5 (Activation)    (None, 19, 18, 256)       0         \n",
            "_________________________________________________________________\n",
            "max_pooling2d_5 (MaxPooling2 (None, 9, 9, 256)         0         \n",
            "_________________________________________________________________\n",
            "dropout_5 (Dropout)          (None, 9, 9, 256)         0         \n",
            "_________________________________________________________________\n",
            "conv2d_6 (Conv2D)            (None, 7, 7, 256)         590080    \n",
            "_________________________________________________________________\n",
            "activation_6 (Activation)    (None, 7, 7, 256)         0         \n",
            "_________________________________________________________________\n",
            "max_pooling2d_6 (MaxPooling2 (None, 3, 3, 256)         0         \n",
            "_________________________________________________________________\n",
            "dropout_6 (Dropout)          (None, 3, 3, 256)         0         \n",
            "_________________________________________________________________\n",
            "flatten_3 (Flatten)          (None, 2304)              0         \n",
            "_________________________________________________________________\n",
            "dense_5 (Dense)              (None, 256)               590080    \n",
            "_________________________________________________________________\n",
            "dense_6 (Dense)              (None, 30)                7710      \n",
            "_________________________________________________________________\n",
            "reshape_3 (Reshape)          (None, 5, 6)              0         \n",
            "=================================================================\n",
            "Total params: 1,195,038\n",
            "Trainable params: 1,195,038\n",
            "Non-trainable params: 0\n",
            "_________________________________________________________________\n",
            "None\n"
          ],
          "name": "stdout"
        }
      ]
    },
    {
      "cell_type": "markdown",
      "metadata": {
        "id": "WTu71ywPcB7k"
      },
      "source": [
        "## Iterate over episodes"
      ]
    },
    {
      "cell_type": "code",
      "metadata": {
        "id": "_JnZYUU5nl_J"
      },
      "source": [
        "if not os.path.isdir('models'):\n",
        "    os.makedirs('models')\n",
        "\n",
        "# Environment settings\n",
        "EPISODES = 25_000\n",
        "MIN_REWARD = -2  # For model save\n",
        "# Exploration settings\n",
        "epsilon = 1  # not a constant, going to be decayed\n",
        "EPSILON_DECAY = 0.99951\n",
        "MIN_EPSILON = 0.05"
      ],
      "execution_count": null,
      "outputs": []
    },
    {
      "cell_type": "code",
      "metadata": {
        "id": "xie278wBcEL5",
        "colab": {
          "base_uri": "https://localhost:8080/",
          "height": 1000
        },
        "outputId": "e4b52993-982f-4cce-bb7f-f0bf2bfc5bb6"
      },
      "source": [
        "ep_rewards = [] \n",
        "\n",
        "# Iterate over episodes\n",
        "for episode in tqdm(range(1, EPISODES + 1), ascii=True, unit='episodes'):\n",
        "\n",
        "    # Update tensorboard step every episode\n",
        "    agent.tensorboard.step = episode\n",
        "\n",
        "    # Restarting episode - reset episode reward and step number\n",
        "    episode_reward = np.zeros (num_peds)\n",
        "    step = 1\n",
        "\n",
        "    # Reset environment and get initial state\n",
        "    current_state = env.reset()\n",
        "\n",
        "    # Reset flag and start iterating until episode ends\n",
        "    done = False\n",
        "    env_rndr= env.get_env()\n",
        "    while not done:\n",
        "        \n",
        "        if np.random.random() > epsilon:\n",
        "            # Get action from Q table\n",
        "            action = np.argmax(agent.get_qs(current_state), axis=1)\n",
        "        else:\n",
        "            # Get random action\n",
        "            action = np.random.randint(0, env.ACTION_SPACE_SIZE, size= num_peds)\n",
        "        \n",
        "        new_state, reward, done = env.step(action)\n",
        "        episode_reward += reward\n",
        "        if not episode % (AGGREGATE_STATS_EVERY):\n",
        "            print (f'Done in: {step}; {reward}')\n",
        "            env_rndr= env.render(env_rndr, env.player)\n",
        "            if done:\n",
        "                plt.imshow (env_rndr)\n",
        "                plt.show ()\n",
        "\n",
        "        # Every step we update replay memory and train main network\n",
        "        agent.update_replay_memory((current_state, action, reward, new_state, done))\n",
        "        agent.train(done, step)\n",
        "\n",
        "        current_state = new_state\n",
        "        step += 1\n",
        "    ep_rewards.append(episode_reward)\n",
        "    min_reward = np.mean(np.array(ep_rewards))\n",
        "    if done and min_reward >= MIN_REWARD:\n",
        "        agent.model.save(f'models/{MODEL_NAME}_{int(time.time())}.h5')\n",
        "\n",
        "    # Decay epsilon\n",
        "    if epsilon > MIN_EPSILON: # and not episode % AGGREGATE_STATS_EVERY :\n",
        "        epsilon *= EPSILON_DECAY\n",
        "        epsilon = max(MIN_EPSILON, epsilon)"
      ],
      "execution_count": null,
      "outputs": [
        {
          "output_type": "stream",
          "text": [
            "  0%|          | 26/25000 [00:00<05:36, 74.18episodes/s]"
          ],
          "name": "stderr"
        },
        {
          "output_type": "stream",
          "text": [
            "WARNING:tensorflow:From /tensorflow-1.15.2/python3.6/keras/backend/tensorflow_backend.py:422: The name tf.global_variables is deprecated. Please use tf.compat.v1.global_variables instead.\n",
            "\n"
          ],
          "name": "stdout"
        },
        {
          "output_type": "stream",
          "text": [
            "  0%|          | 67/25000 [00:07<25:31, 16.28episodes/s]"
          ],
          "name": "stderr"
        },
        {
          "output_type": "stream",
          "text": [
            "WARNING:tensorflow:From /tensorflow-1.15.2/python3.6/keras/callbacks/tensorboard_v1.py:343: The name tf.Summary is deprecated. Please use tf.compat.v1.Summary instead.\n",
            "\n"
          ],
          "name": "stdout"
        },
        {
          "output_type": "stream",
          "text": [
            "  0%|          | 99/25000 [00:18<3:00:35,  2.30episodes/s]"
          ],
          "name": "stderr"
        },
        {
          "output_type": "stream",
          "text": [
            "Done in: 1; [ 1 -5 -5 -5 -5]\n",
            "Done in: 2; [ 1 -5 -5  1 -5]\n",
            "Done in: 3; [ -5 -12 -12  -5   1]\n"
          ],
          "name": "stdout"
        },
        {
          "output_type": "display_data",
          "data": {
            "image/png": "[encoded data removed]",
            "text/plain": [
              "<Figure size 576x396 with 1 Axes>"
            ]
          },
          "metadata": {
            "tags": []
          }
        },
        {
          "output_type": "stream",
          "text": [
            "  1%|          | 199/25000 [00:46<1:24:13,  4.91episodes/s]"
          ],
          "name": "stderr"
        },
        {
          "output_type": "stream",
          "text": [
            "Done in: 1; [ 1 -5  1  1 -5]\n",
            "Done in: 2; [ 1 -5  1  1 -5]\n",
            "Done in: 3; [ 1 -5  1  1 -5]\n",
            "Done in: 4; [ 1  1  1 -5  1]\n",
            "Done in: 5; [-5  1  1  1  1]\n",
            "Done in: 6; [ 1  1  1 -5 -5]\n",
            "Done in: 7; [-5  1  1 -5 -5]\n",
            "Done in: 8; [ 1  1  1 -5 -5]\n",
            "Done in: 9; [-5  1 -5 -5  1]\n",
            "Done in: 10; [-5 -5  1 -5 -5]\n",
            "Done in: 11; [-5 -5 -5 -5 -5]\n",
            "Done in: 12; [ 1 -5 -5 -5  1]\n",
            "Done in: 13; [ 1 -5 -5 -5 -5]\n",
            "Done in: 14; [ 1  1  1 -5 -5]\n",
            "Done in: 15; [ 1 -5 -5 -5 -5]\n",
            "Done in: 16; [ 1 -5 -5 -5 -5]\n",
            "Done in: 17; [ 1 -5  1 -5  1]\n",
            "Done in: 18; [ 1  1  1 -5 -5]\n",
            "Done in: 19; [ 1  1  1 -5 -5]\n",
            "Done in: 20; [ 1  1 -5 -5 -5]\n",
            "Done in: 21; [-5  1 -5 -5 -5]\n",
            "Done in: 22; [-5 -5 -5 -5 -5]\n",
            "Done in: 23; [-5  1 -5 -5 -5]\n",
            "Done in: 24; [ -5   1 -12 -12  -5]\n"
          ],
          "name": "stdout"
        },
        {
          "output_type": "display_data",
          "data": {
            "image/png": "[encoded data removed]",
            "text/plain": [
              "<Figure size 576x396 with 1 Axes>"
            ]
          },
          "metadata": {
            "tags": []
          }
        },
        {
          "output_type": "stream",
          "text": [
            "  1%|1         | 299/25000 [01:20<2:19:40,  2.95episodes/s]"
          ],
          "name": "stderr"
        },
        {
          "output_type": "stream",
          "text": [
            "Done in: 1; [ 1 -5 -5  1  1]\n",
            "Done in: 2; [-5 -5  1  1  1]\n",
            "Done in: 3; [1 1 1 1 1]\n",
            "Done in: 4; [-5  1  1  1  1]\n",
            "Done in: 5; [ 1  1  1 -5  1]\n",
            "Done in: 6; [-5  1 -5  1 -5]\n",
            "Done in: 7; [ 1  1  1  1 -5]\n",
            "Done in: 8; [1 1 1 1 1]\n",
            "Done in: 9; [-5  1 -5 -5  1]\n",
            "Done in: 10; [-5  1  1 -5  1]\n",
            "Done in: 11; [-5  1  1 -5  1]\n",
            "Done in: 12; [-5  1  1 -5  1]\n",
            "Done in: 13; [-5  1 -5  1 -5]\n",
            "Done in: 14; [-5  1  1  1  1]\n",
            "Done in: 15; [-5 -5  1  1  1]\n",
            "Done in: 16; [-5  1 -5  1 -5]\n",
            "Done in: 17; [-5 -5  1 -5  1]\n",
            "Done in: 18; [-5  1 -5  1  1]\n",
            "Done in: 19; [-5  1 -5  1 -5]\n",
            "Done in: 20; [-12  -6  -5   1  -5]\n"
          ],
          "name": "stdout"
        },
        {
          "output_type": "display_data",
          "data": {
            "image/png": "[encoded data removed]",
            "text/plain": [
              "<Figure size 576x396 with 1 Axes>"
            ]
          },
          "metadata": {
            "tags": []
          }
        },
        {
          "output_type": "stream",
          "text": [
            "  2%|1         | 399/25000 [02:01<4:07:05,  1.66episodes/s]"
          ],
          "name": "stderr"
        },
        {
          "output_type": "stream",
          "text": [
            "Done in: 1; [-5 -5  1  1  1]\n",
            "Done in: 2; [1 1 1 1 1]\n",
            "Done in: 3; [1 1 1 1 1]\n",
            "Done in: 4; [1 1 1 1 1]\n",
            "Done in: 5; [-5  1  1 -5  1]\n",
            "Done in: 6; [ 1  1  1 -5 -5]\n",
            "Done in: 7; [ 1  1 -5 -5  1]\n",
            "Done in: 8; [-5  1  1 -5  1]\n",
            "Done in: 9; [ 1  1  1 -5  1]\n",
            "Done in: 10; [-5  1  1 -5 -5]\n",
            "Done in: 11; [ 1  1  1 -5  1]\n",
            "Done in: 12; [ 1  1  1 -5  1]\n",
            "Done in: 13; [ 1 -5 -5 -5  1]\n",
            "Done in: 14; [-5  1 -5 -5 -5]\n",
            "Done in: 15; [ 1  1  1 -5  1]\n",
            "Done in: 16; [ 1  1  1 -5  1]\n",
            "Done in: 17; [-5  1  1 -5  1]\n",
            "Done in: 18; [-5 -5  1 -5  1]\n",
            "Done in: 19; [-5 -5  1 -5  1]\n",
            "Done in: 20; [ -5 -12  -6  -5   1]\n"
          ],
          "name": "stdout"
        },
        {
          "output_type": "display_data",
          "data": {
            "image/png": "[encoded data removed]",
            "text/plain": [
              "<Figure size 576x396 with 1 Axes>"
            ]
          },
          "metadata": {
            "tags": []
          }
        },
        {
          "output_type": "stream",
          "text": [
            "  2%|1         | 497/25000 [02:40<2:05:20,  3.26episodes/s]"
          ],
          "name": "stderr"
        },
        {
          "output_type": "stream",
          "text": [
            "Done in: 1; [-5  1 -5  1  1]\n",
            "Done in: 2; [1 1 1 1 1]\n",
            "Done in: 3; [ 1  1 -5  1  1]\n",
            "Done in: 4; [ 1 -5 -5  1  1]\n",
            "Done in: 5; [ 1 -5  1  1  1]\n",
            "Done in: 6; [-5 -5 -5  1  1]\n",
            "Done in: 7; [-5 -5 -5  1  1]\n",
            "Done in: 8; [ -6 -12  -5  -5   1]\n"
          ],
          "name": "stdout"
        },
        {
          "output_type": "display_data",
          "data": {
            "image/png": "[encoded data removed]",
            "text/plain": [
              "<Figure size 576x396 with 1 Axes>"
            ]
          },
          "metadata": {
            "tags": []
          }
        },
        {
          "output_type": "stream",
          "text": [
            "  2%|2         | 599/25000 [03:14<3:02:17,  2.23episodes/s]"
          ],
          "name": "stderr"
        },
        {
          "output_type": "stream",
          "text": [
            "Done in: 1; [-5 -5 -5  1 -5]\n",
            "Done in: 2; [-5 -5 -5  1 -5]\n",
            "Done in: 3; [ 1 -5 -5  1 -5]\n",
            "Done in: 4; [ 1 -5  1 -5 -5]\n",
            "Done in: 5; [ 1 -5 -5 -5 -5]\n",
            "Done in: 6; [ 1 -5 -5 -5  1]\n",
            "Done in: 7; [ 1 -6 -6 -5  1]\n"
          ],
          "name": "stdout"
        },
        {
          "output_type": "display_data",
          "data": {
            "image/png": "[encoded data removed]",
            "text/plain": [
              "<Figure size 576x396 with 1 Axes>"
            ]
          },
          "metadata": {
            "tags": []
          }
        },
        {
          "output_type": "stream",
          "text": [
            "  3%|2         | 698/25000 [03:51<2:42:41,  2.49episodes/s]"
          ],
          "name": "stderr"
        },
        {
          "output_type": "stream",
          "text": [
            "Done in: 1; [-5 -5 -5  1  1]\n",
            "Done in: 2; [-5  1 -5  1 -5]\n",
            "Done in: 3; [-5 -5 -5  1 -5]\n",
            "Done in: 4; [ 1  1 -5 -5 -5]\n",
            "Done in: 5; [ 1  1 -5 -5  1]\n",
            "Done in: 6; [-6 -6  1 -5  1]\n"
          ],
          "name": "stdout"
        },
        {
          "output_type": "display_data",
          "data": {
            "image/png": "[encoded data removed]",
            "text/plain": [
              "<Figure size 576x396 with 1 Axes>"
            ]
          },
          "metadata": {
            "tags": []
          }
        },
        {
          "output_type": "stream",
          "text": [
            "  3%|3         | 799/25000 [04:24<1:53:13,  3.56episodes/s]"
          ],
          "name": "stderr"
        },
        {
          "output_type": "stream",
          "text": [
            "Done in: 1; [-5 -5 -5  1  1]\n",
            "Done in: 2; [1 1 1 1 1]\n",
            "Done in: 3; [-5  1  1  1  1]\n",
            "Done in: 4; [-6 -6 -6  1  1]\n"
          ],
          "name": "stdout"
        },
        {
          "output_type": "display_data",
          "data": {
            "image/png": "[encoded data removed]",
            "text/plain": [
              "<Figure size 576x396 with 1 Axes>"
            ]
          },
          "metadata": {
            "tags": []
          }
        },
        {
          "output_type": "stream",
          "text": [
            "  4%|3         | 898/25000 [05:04<3:51:58,  1.73episodes/s]"
          ],
          "name": "stderr"
        },
        {
          "output_type": "stream",
          "text": [
            "Done in: 1; [-5  1 -5  1 -5]\n",
            "Done in: 2; [ 1  1 -5  1 -5]\n",
            "Done in: 3; [ -5  -6 -12   1   1]\n"
          ],
          "name": "stdout"
        },
        {
          "output_type": "display_data",
          "data": {
            "image/png": "[encoded data removed]",
            "text/plain": [
              "<Figure size 576x396 with 1 Axes>"
            ]
          },
          "metadata": {
            "tags": []
          }
        },
        {
          "output_type": "stream",
          "text": [
            "  4%|3         | 998/25000 [05:42<3:13:00,  2.07episodes/s]"
          ],
          "name": "stderr"
        },
        {
          "output_type": "stream",
          "text": [
            "Done in: 1; [1 1 1 1 1]\n",
            "Done in: 2; [-5  1  1  1 -5]\n",
            "Done in: 3; [-5 -6 -6  1  1]\n"
          ],
          "name": "stdout"
        },
        {
          "output_type": "display_data",
          "data": {
            "image/png": "[encoded data removed]",
            "text/plain": [
              "<Figure size 576x396 with 1 Axes>"
            ]
          },
          "metadata": {
            "tags": []
          }
        },
        {
          "output_type": "stream",
          "text": [
            "  4%|4         | 1098/25000 [06:19<2:14:45,  2.96episodes/s]"
          ],
          "name": "stderr"
        },
        {
          "output_type": "stream",
          "text": [
            "Done in: 1; [1 1 1 1 1]\n",
            "Done in: 2; [1 1 1 1 1]\n",
            "Done in: 3; [1 1 1 1 1]\n",
            "Done in: 4; [-5  1  1  1  1]\n",
            "Done in: 5; [1 1 1 1 1]\n",
            "Done in: 6; [1 1 1 1 1]\n",
            "Done in: 7; [ 1  1  1 -5  1]\n",
            "Done in: 8; [ 1  1 -5  1  1]\n",
            "Done in: 9; [1 1 1 1 1]\n",
            "Done in: 10; [1 1 1 1 1]\n",
            "Done in: 11; [ 1 -5 -5  1 -5]\n",
            "Done in: 12; [-5 -5  1 -5  1]\n",
            "Done in: 13; [-5 -5  1 -5 -5]\n",
            "Done in: 14; [ 1 -5  1  1 -5]\n",
            "Done in: 15; [-5 -5  1  1 -5]\n",
            "Done in: 16; [  1  -5  -6 -12   1]\n"
          ],
          "name": "stdout"
        },
        {
          "output_type": "display_data",
          "data": {
            "image/png": "[encoded data removed]",
            "text/plain": [
              "<Figure size 576x396 with 1 Axes>"
            ]
          },
          "metadata": {
            "tags": []
          }
        },
        {
          "output_type": "stream",
          "text": [
            "  5%|4         | 1199/25000 [06:59<2:25:43,  2.72episodes/s]"
          ],
          "name": "stderr"
        },
        {
          "output_type": "stream",
          "text": [
            "Done in: 1; [1 1 1 1 1]\n",
            "Done in: 2; [1 1 1 1 1]\n",
            "Done in: 3; [ 1 -6 -6  1  1]\n"
          ],
          "name": "stdout"
        },
        {
          "output_type": "display_data",
          "data": {
            "image/png": "[encoded data removed]",
            "text/plain": [
              "<Figure size 576x396 with 1 Axes>"
            ]
          },
          "metadata": {
            "tags": []
          }
        },
        {
          "output_type": "stream",
          "text": [
            "  5%|5         | 1299/25000 [07:37<2:55:04,  2.26episodes/s]"
          ],
          "name": "stderr"
        },
        {
          "output_type": "stream",
          "text": [
            "Done in: 1; [1 1 1 1 1]\n",
            "Done in: 2; [1 1 1 1 1]\n",
            "Done in: 3; [1 1 1 1 1]\n",
            "Done in: 4; [1 1 1 1 1]\n",
            "Done in: 5; [-5  1  1  1  1]\n",
            "Done in: 6; [ 1  1 -5  1  1]\n",
            "Done in: 7; [-5  1 -5 -5  1]\n",
            "Done in: 8; [-6 -6 -5 -5  1]\n"
          ],
          "name": "stdout"
        },
        {
          "output_type": "display_data",
          "data": {
            "image/png": "[encoded data removed]",
            "text/plain": [
              "<Figure size 576x396 with 1 Axes>"
            ]
          },
          "metadata": {
            "tags": []
          }
        },
        {
          "output_type": "stream",
          "text": [
            "  6%|5         | 1399/25000 [08:20<2:30:52,  2.61episodes/s]"
          ],
          "name": "stderr"
        },
        {
          "output_type": "stream",
          "text": [
            "Done in: 1; [1 1 1 1 1]\n",
            "Done in: 2; [  1  -6 -12   1  -5]\n"
          ],
          "name": "stdout"
        },
        {
          "output_type": "display_data",
          "data": {
            "image/png": "[encoded data removed]",
            "text/plain": [
              "<Figure size 576x396 with 1 Axes>"
            ]
          },
          "metadata": {
            "tags": []
          }
        },
        {
          "output_type": "stream",
          "text": [
            "  6%|5         | 1499/25000 [09:07<2:24:26,  2.71episodes/s]"
          ],
          "name": "stderr"
        },
        {
          "output_type": "stream",
          "text": [
            "Done in: 1; [ 1  1 -5  1 -5]\n",
            "Done in: 2; [1 1 1 1 1]\n",
            "Done in: 3; [-5 -6 -6  1  1]\n"
          ],
          "name": "stdout"
        },
        {
          "output_type": "display_data",
          "data": {
            "image/png": "[encoded data removed]",
            "text/plain": [
              "<Figure size 576x396 with 1 Axes>"
            ]
          },
          "metadata": {
            "tags": []
          }
        },
        {
          "output_type": "stream",
          "text": [
            "  6%|6         | 1599/25000 [09:51<3:46:09,  1.72episodes/s]"
          ],
          "name": "stderr"
        },
        {
          "output_type": "stream",
          "text": [
            "Done in: 1; [1 1 1 1 1]\n",
            "Done in: 2; [1 1 1 1 1]\n",
            "Done in: 3; [-5 -6 -6  1  1]\n"
          ],
          "name": "stdout"
        },
        {
          "output_type": "display_data",
          "data": {
            "image/png": "[encoded data removed]",
            "text/plain": [
              "<Figure size 576x396 with 1 Axes>"
            ]
          },
          "metadata": {
            "tags": []
          }
        },
        {
          "output_type": "stream",
          "text": [
            "  7%|6         | 1699/25000 [10:34<3:35:40,  1.80episodes/s]"
          ],
          "name": "stderr"
        },
        {
          "output_type": "stream",
          "text": [
            "Done in: 1; [-5 -6 -6  1 -5]\n"
          ],
          "name": "stdout"
        },
        {
          "output_type": "display_data",
          "data": {
            "image/png": "[encoded data removed]",
            "text/plain": [
              "<Figure size 576x396 with 1 Axes>"
            ]
          },
          "metadata": {
            "tags": []
          }
        },
        {
          "output_type": "stream",
          "text": [
            "  7%|7         | 1799/25000 [11:23<5:05:38,  1.27episodes/s]"
          ],
          "name": "stderr"
        },
        {
          "output_type": "stream",
          "text": [
            "Done in: 1; [ 1 -5  1  1  1]\n",
            "Done in: 2; [-5  1  1  1 -5]\n",
            "Done in: 3; [ 1  1  1  1 -5]\n",
            "Done in: 4; [ 1  1 -5  1  1]\n",
            "Done in: 5; [  1  -6 -12   1  -5]\n"
          ],
          "name": "stdout"
        },
        {
          "output_type": "display_data",
          "data": {
            "image/png": "[encoded data removed]",
            "text/plain": [
              "<Figure size 576x396 with 1 Axes>"
            ]
          },
          "metadata": {
            "tags": []
          }
        },
        {
          "output_type": "stream",
          "text": [
            "  8%|7         | 1899/25000 [12:12<2:47:36,  2.30episodes/s]"
          ],
          "name": "stderr"
        },
        {
          "output_type": "stream",
          "text": [
            "Done in: 1; [1 1 1 1 1]\n",
            "Done in: 2; [1 1 1 1 1]\n",
            "Done in: 3; [1 1 1 1 1]\n",
            "Done in: 4; [1 1 1 1 1]\n",
            "Done in: 5; [1 1 1 1 1]\n",
            "Done in: 6; [ 1  1  1  1 -5]\n",
            "Done in: 7; [1 1 1 1 1]\n",
            "Done in: 8; [1 1 1 1 1]\n",
            "Done in: 9; [-5  1  1  1 -5]\n",
            "Done in: 10; [ 1  1 -5  1  1]\n",
            "Done in: 11; [ 1 -5  1  1  1]\n",
            "Done in: 12; [-5 -5 -5  1  1]\n",
            "Done in: 13; [ 1 -5  1  1  1]\n",
            "Done in: 14; [ 1 -5  1  1  1]\n",
            "Done in: 15; [ 1  1  1 -5  1]\n",
            "Done in: 16; [ 1 -5  1  1  1]\n",
            "Done in: 17; [1 1 1 1 1]\n",
            "Done in: 18; [-5  1  1  1  1]\n",
            "Done in: 19; [-5  1  1  1  1]\n",
            "Done in: 20; [-5  1  1  1 -5]\n",
            "Done in: 21; [-5  1  1  1 -5]\n",
            "Done in: 22; [-5  1  1  1  4]\n",
            "Done in: 23; [-6 -6  1  1  4]\n"
          ],
          "name": "stdout"
        },
        {
          "output_type": "display_data",
          "data": {
            "image/png": "[encoded data removed]",
            "text/plain": [
              "<Figure size 576x396 with 1 Axes>"
            ]
          },
          "metadata": {
            "tags": []
          }
        },
        {
          "output_type": "stream",
          "text": [
            "  8%|7         | 1999/25000 [12:57<4:47:04,  1.34episodes/s]"
          ],
          "name": "stderr"
        },
        {
          "output_type": "stream",
          "text": [
            "Done in: 1; [-5 -5 -5 -5  1]\n",
            "Done in: 2; [1 1 1 1 1]\n",
            "Done in: 3; [1 1 1 1 1]\n",
            "Done in: 4; [ 1  1 -5  1  1]\n",
            "Done in: 5; [ 1  1 -5  1  1]\n",
            "Done in: 6; [1 1 1 1 1]\n",
            "Done in: 7; [-5  1 -5 -5  1]\n",
            "Done in: 8; [ 1  1 -5  1  1]\n",
            "Done in: 9; [-5  1  1 -5 -5]\n",
            "Done in: 10; [-5  1  1  1  1]\n",
            "Done in: 11; [ 1  1  1 -5  1]\n",
            "Done in: 12; [1 1 1 1 1]\n",
            "Done in: 13; [1 1 1 1 1]\n",
            "Done in: 14; [1 1 1 1 1]\n",
            "Done in: 15; [ 1  1 -5  1  1]\n",
            "Done in: 16; [ 1 -5 -5  1  1]\n",
            "Done in: 17; [-5  1 -5  1 -5]\n",
            "Done in: 18; [ 1  1 -5  1  1]\n",
            "Done in: 19; [-5 -5  1  1  1]\n",
            "Done in: 20; [-5 -5  1  1  1]\n",
            "Done in: 21; [1 1 4 1 1]\n",
            "Done in: 22; [-5  1  4  1  1]\n",
            "Done in: 23; [ 1 -5  4  1 -5]\n",
            "Done in: 24; [4 1 4 1 1]\n",
            "Done in: 25; [4 4 4 1 4]\n",
            "Done in: 26; [4 4 4 1 4]\n",
            "Done in: 27; [ 4  4  4 -5  4]\n",
            "Done in: 28; [4 4 4 1 4]\n",
            "Done in: 29; [4 4 4 1 4]\n",
            "Done in: 30; [4 4 4 1 4]\n",
            "Done in: 31; [4 4 4 4 4]\n"
          ],
          "name": "stdout"
        },
        {
          "output_type": "display_data",
          "data": {
            "image/png": "[encoded data removed]",
            "text/plain": [
              "<Figure size 576x396 with 1 Axes>"
            ]
          },
          "metadata": {
            "tags": []
          }
        },
        {
          "output_type": "stream",
          "text": [
            "  8%|8         | 2099/25000 [13:46<2:43:50,  2.33episodes/s]"
          ],
          "name": "stderr"
        },
        {
          "output_type": "stream",
          "text": [
            "Done in: 1; [ 1 -5  1  1  1]\n",
            "Done in: 2; [1 1 1 1 1]\n",
            "Done in: 3; [ 1 -5  1  1  1]\n",
            "Done in: 4; [-5  1 -5  1  1]\n",
            "Done in: 5; [-5 -5  1 -5 -5]\n",
            "Done in: 6; [ 1  1  1 -5  1]\n",
            "Done in: 7; [1 1 1 1 1]\n",
            "Done in: 8; [-5  1  1 -5  1]\n",
            "Done in: 9; [ 1  1  1 -5  1]\n",
            "Done in: 10; [ 1  1  1 -5  1]\n",
            "Done in: 11; [-5  1  1 -5  1]\n",
            "Done in: 12; [-6 -6  1  1  1]\n"
          ],
          "name": "stdout"
        },
        {
          "output_type": "display_data",
          "data": {
            "image/png": "[encoded data removed]",
            "text/plain": [
              "<Figure size 576x396 with 1 Axes>"
            ]
          },
          "metadata": {
            "tags": []
          }
        },
        {
          "output_type": "stream",
          "text": [
            "  9%|8         | 2198/25000 [14:34<4:07:53,  1.53episodes/s]"
          ],
          "name": "stderr"
        },
        {
          "output_type": "stream",
          "text": [
            "Done in: 1; [ 1 -5 -5  1  1]\n",
            "Done in: 2; [ 1  1 -5  1  1]\n",
            "Done in: 3; [ 1  1 -5  1  1]\n",
            "Done in: 4; [1 1 1 1 1]\n",
            "Done in: 5; [1 1 1 1 1]\n",
            "Done in: 6; [-5  1  1 -5  1]\n",
            "Done in: 7; [1 1 1 1 1]\n",
            "Done in: 8; [1 1 1 1 1]\n",
            "Done in: 9; [-5  1 -5  1  1]\n",
            "Done in: 10; [1 1 1 1 1]\n",
            "Done in: 11; [ 1  1 -5  1  1]\n",
            "Done in: 12; [1 1 1 1 1]\n",
            "Done in: 13; [1 1 1 1 1]\n",
            "Done in: 14; [ 1 -5  1  1  1]\n",
            "Done in: 15; [ 1 -5  1  1  1]\n",
            "Done in: 16; [1 1 1 1 1]\n",
            "Done in: 17; [ 1 -5  1  1 -5]\n",
            "Done in: 18; [-5 -5  1 -5 -5]\n",
            "Done in: 19; [-5 -5  1  1 -5]\n",
            "Done in: 20; [-5 -5  1  1 -5]\n",
            "Done in: 21; [-5 -5  1  1 -5]\n",
            "Done in: 22; [-5 -5  1  1 -5]\n",
            "Done in: 23; [-5 -5  1  1 -5]\n",
            "Done in: 24; [-5  1 -5 -5 -5]\n",
            "Done in: 25; [-12  -3  -5   1  -5]\n"
          ],
          "name": "stdout"
        },
        {
          "output_type": "display_data",
          "data": {
            "image/png": "[encoded data removed]",
            "text/plain": [
              "<Figure size 576x396 with 1 Axes>"
            ]
          },
          "metadata": {
            "tags": []
          }
        },
        {
          "output_type": "stream",
          "text": [
            "  9%|9         | 2299/25000 [15:22<3:02:46,  2.07episodes/s]"
          ],
          "name": "stderr"
        },
        {
          "output_type": "stream",
          "text": [
            "Done in: 1; [1 1 1 1 1]\n",
            "Done in: 2; [1 1 1 1 1]\n",
            "Done in: 3; [1 1 1 1 1]\n",
            "Done in: 4; [1 1 1 1 1]\n",
            "Done in: 5; [1 1 1 1 1]\n",
            "Done in: 6; [ 1  1  1  1 -5]\n",
            "Done in: 7; [1 1 1 1 1]\n",
            "Done in: 8; [ 1  1  1  1 -5]\n",
            "Done in: 9; [ 1  1  1  1 -5]\n",
            "Done in: 10; [ 1  1  1  1 -5]\n",
            "Done in: 11; [1 1 1 1 1]\n",
            "Done in: 12; [ 1  1  1 -5  1]\n",
            "Done in: 13; [ 1 -5  1  1  1]\n",
            "Done in: 14; [ 1  1 -5  1  1]\n",
            "Done in: 15; [ 1  1 -5  1  1]\n",
            "Done in: 16; [ 1  1 -5  1  1]\n",
            "Done in: 17; [1 1 1 1 1]\n",
            "Done in: 18; [ 1  1 -5  1  1]\n",
            "Done in: 19; [-5  1  1  1  1]\n",
            "Done in: 20; [-5  1 -5  1  1]\n",
            "Done in: 21; [ 4  1  1  1 -5]\n",
            "Done in: 22; [ 4  1 -5 -5  1]\n",
            "Done in: 23; [ 4 -5 -5  1 -5]\n",
            "Done in: 24; [ 4 -5  1  1 -5]\n",
            "Done in: 25; [ 4 -5  1  4 -5]\n",
            "Done in: 26; [ 4 -5  4  4  4]\n",
            "Done in: 27; [4 1 4 4 4]\n",
            "Done in: 28; [4 1 4 4 4]\n",
            "Done in: 29; [4 1 4 4 4]\n",
            "Done in: 30; [ 4 -5  4  4  4]\n",
            "Done in: 31; [4 4 4 4 4]\n"
          ],
          "name": "stdout"
        },
        {
          "output_type": "display_data",
          "data": {
            "image/png": "[encoded data removed]",
            "text/plain": [
              "<Figure size 576x396 with 1 Axes>"
            ]
          },
          "metadata": {
            "tags": []
          }
        },
        {
          "output_type": "stream",
          "text": [
            " 10%|9         | 2399/25000 [16:11<3:41:40,  1.70episodes/s]"
          ],
          "name": "stderr"
        },
        {
          "output_type": "stream",
          "text": [
            "Done in: 1; [ 1 -5  1  1 -5]\n",
            "Done in: 2; [1 1 1 1 1]\n",
            "Done in: 3; [ 1 -5  1  1  1]\n",
            "Done in: 4; [ 1 -5  1  1  1]\n",
            "Done in: 5; [ 1 -5  1  1  1]\n",
            "Done in: 6; [ 1  1  1 -5  1]\n",
            "Done in: 7; [1 1 1 1 1]\n",
            "Done in: 8; [ 1  1  1 -5  1]\n",
            "Done in: 9; [ 1 -5  1  1  1]\n",
            "Done in: 10; [-5 -5  1  1 -5]\n",
            "Done in: 11; [-5 -5  1  1  1]\n",
            "Done in: 12; [ 1 -5  1  1  1]\n",
            "Done in: 13; [ 1 -5  1  1  1]\n",
            "Done in: 14; [ 1 -5  1 -5  1]\n",
            "Done in: 15; [-5 -5  1 -5 -5]\n",
            "Done in: 16; [-5 -5  1 -5  1]\n",
            "Done in: 17; [-5 -5  1  1  1]\n",
            "Done in: 18; [1 1 1 1 1]\n",
            "Done in: 19; [-5  1  1  1  1]\n",
            "Done in: 20; [-5  1 -5  1  1]\n",
            "Done in: 21; [ 4  1 -5  1  1]\n",
            "Done in: 22; [ 4 -5 -5  1  1]\n",
            "Done in: 23; [ 4  4 -5  4  1]\n",
            "Done in: 24; [ 4  4 -5  4  1]\n",
            "Done in: 25; [ 4  4 -5  4  1]\n",
            "Done in: 26; [ 4  4 -5  4  1]\n",
            "Done in: 27; [ 4  4 -5  4  4]\n",
            "Done in: 28; [ 4  4 -5  4  4]\n",
            "Done in: 29; [ 4  4 -5  4  4]\n",
            "Done in: 30; [ 4  4 -5  4  4]\n",
            "Done in: 31; [ 4  4 -5  4  4]\n",
            "Done in: 32; [ 4  4 -5  4  4]\n",
            "Done in: 33; [ 4  4 -5  4  4]\n",
            "Done in: 34; [ 4  4 -5  4  4]\n",
            "Done in: 35; [ 4  4 -5  4  4]\n",
            "Done in: 36; [ 4  4 -5  4  4]\n",
            "Done in: 37; [ 4  4 -5  4  4]\n",
            "Done in: 38; [ 4  4 -5  4  4]\n",
            "Done in: 39; [ 4  4 -5  4  4]\n",
            "Done in: 40; [ 4  4 -5  4  4]\n",
            "Done in: 41; [ 4  4 -5  4  4]\n",
            "Done in: 42; [ 4  4 -5  4  4]\n",
            "Done in: 43; [ 4  4 -5  4  4]\n"
          ],
          "name": "stdout"
        },
        {
          "output_type": "display_data",
          "data": {
            "image/png": "[encoded data removed]",
            "text/plain": [
              "<Figure size 576x396 with 1 Axes>"
            ]
          },
          "metadata": {
            "tags": []
          }
        },
        {
          "output_type": "stream",
          "text": [
            " 10%|9         | 2499/25000 [17:01<4:40:29,  1.34episodes/s]"
          ],
          "name": "stderr"
        },
        {
          "output_type": "stream",
          "text": [
            "Done in: 1; [ 1 -5  1  1  1]\n",
            "Done in: 2; [1 1 1 1 1]\n",
            "Done in: 3; [1 1 1 1 1]\n",
            "Done in: 4; [-5  1  1 -5  1]\n",
            "Done in: 5; [ 1 -5  1 -5 -5]\n",
            "Done in: 6; [ 1 -5  1 -5  1]\n",
            "Done in: 7; [ 1  1  1 -5  1]\n",
            "Done in: 8; [ 1  1  1 -5  1]\n",
            "Done in: 9; [ 1  1  1 -5  1]\n",
            "Done in: 10; [ 1  1  1 -5  1]\n",
            "Done in: 11; [1 1 1 1 1]\n",
            "Done in: 12; [1 1 1 1 1]\n",
            "Done in: 13; [1 1 1 1 1]\n",
            "Done in: 14; [1 1 1 1 1]\n",
            "Done in: 15; [1 1 1 1 1]\n",
            "Done in: 16; [ 1  1  1  1 -5]\n",
            "Done in: 17; [1 1 1 1 1]\n",
            "Done in: 18; [ 1  1  1  1 -5]\n",
            "Done in: 19; [ 1  1 -5  1  1]\n",
            "Done in: 20; [ 1  1 -5 -5  1]\n",
            "Done in: 21; [ 1  1  1 -5 -5]\n",
            "Done in: 22; [-6 -6  1  4  4]\n"
          ],
          "name": "stdout"
        },
        {
          "output_type": "display_data",
          "data": {
            "image/png": "[encoded data removed]",
            "text/plain": [
              "<Figure size 576x396 with 1 Axes>"
            ]
          },
          "metadata": {
            "tags": []
          }
        },
        {
          "output_type": "stream",
          "text": [
            " 10%|#         | 2599/25000 [17:54<3:54:04,  1.59episodes/s]"
          ],
          "name": "stderr"
        },
        {
          "output_type": "stream",
          "text": [
            "Done in: 1; [ 1 -5  1  1  1]\n",
            "Done in: 2; [1 1 1 1 1]\n",
            "Done in: 3; [1 1 1 1 1]\n",
            "Done in: 4; [1 1 1 1 1]\n",
            "Done in: 5; [ 1 -5  1  1  1]\n",
            "Done in: 6; [ 1 -5  1 -5  1]\n",
            "Done in: 7; [-5 -5 -5  1  1]\n",
            "Done in: 8; [ 1 -5 -5 -5  1]\n",
            "Done in: 9; [ 1 -5  1  1  1]\n",
            "Done in: 10; [ 1 -5  1 -5  1]\n",
            "Done in: 11; [ 1  1 -5 -5  1]\n",
            "Done in: 12; [ 1  1  1 -5  1]\n",
            "Done in: 13; [ 1  1 -5 -5  1]\n",
            "Done in: 14; [1 1 1 1 1]\n",
            "Done in: 15; [1 1 1 1 1]\n",
            "Done in: 16; [ 1  1  1  1 -5]\n",
            "Done in: 17; [ 1  1  1 -5  1]\n",
            "Done in: 18; [1 1 1 1 1]\n",
            "Done in: 19; [1 1 1 1 1]\n",
            "Done in: 20; [ 1  1 -5  1  1]\n",
            "Done in: 21; [4 1 4 1 1]\n",
            "Done in: 22; [4 1 4 1 1]\n",
            "Done in: 23; [4 1 4 1 1]\n",
            "Done in: 24; [4 1 4 1 1]\n",
            "Done in: 25; [ 4  1  4 -5  1]\n",
            "Done in: 26; [ 4 -5  4  4  1]\n",
            "Done in: 27; [4 1 4 4 1]\n",
            "Done in: 28; [4 1 4 4 4]\n",
            "Done in: 29; [4 4 4 4 4]\n"
          ],
          "name": "stdout"
        },
        {
          "output_type": "display_data",
          "data": {
            "image/png": "[encoded data removed]",
            "text/plain": [
              "<Figure size 576x396 with 1 Axes>"
            ]
          },
          "metadata": {
            "tags": []
          }
        },
        {
          "output_type": "stream",
          "text": [
            " 11%|#         | 2699/25000 [18:49<3:25:40,  1.81episodes/s]"
          ],
          "name": "stderr"
        },
        {
          "output_type": "stream",
          "text": [
            "Done in: 1; [1 1 1 1 1]\n",
            "Done in: 2; [1 1 1 1 1]\n",
            "Done in: 3; [1 1 1 1 1]\n",
            "Done in: 4; [1 1 1 1 1]\n",
            "Done in: 5; [1 1 1 1 1]\n",
            "Done in: 6; [1 1 1 1 1]\n",
            "Done in: 7; [-5  1 -5  1 -5]\n",
            "Done in: 8; [1 1 1 1 1]\n",
            "Done in: 9; [1 1 1 1 1]\n",
            "Done in: 10; [1 1 1 1 1]\n",
            "Done in: 11; [1 1 1 1 1]\n",
            "Done in: 12; [1 1 1 1 1]\n",
            "Done in: 13; [1 1 1 1 1]\n",
            "Done in: 14; [ 1 -5  1  1 -5]\n",
            "Done in: 15; [1 1 1 1 1]\n",
            "Done in: 16; [ 1  1  1 -5 -5]\n",
            "Done in: 17; [ 1  1 -5  1  1]\n",
            "Done in: 18; [ 1  1 -5  1 -5]\n",
            "Done in: 19; [ 1  1 -5  1  1]\n",
            "Done in: 20; [ 1  1 -5  1  4]\n",
            "Done in: 21; [1 1 4 1 4]\n",
            "Done in: 22; [ 1 -5  4  1  4]\n",
            "Done in: 23; [ 1 -5  4 -5  4]\n",
            "Done in: 24; [-5 -5  4  4  4]\n",
            "Done in: 25; [ 1 -5  4  4  4]\n",
            "Done in: 26; [4 1 4 4 4]\n",
            "Done in: 27; [4 4 4 4 4]\n"
          ],
          "name": "stdout"
        },
        {
          "output_type": "display_data",
          "data": {
            "image/png": "[encoded data removed]",
            "text/plain": [
              "<Figure size 576x396 with 1 Axes>"
            ]
          },
          "metadata": {
            "tags": []
          }
        },
        {
          "output_type": "stream",
          "text": [
            " 11%|#1        | 2799/25000 [19:46<4:04:26,  1.51episodes/s]"
          ],
          "name": "stderr"
        },
        {
          "output_type": "stream",
          "text": [
            "Done in: 1; [1 1 1 1 1]\n",
            "Done in: 2; [1 1 1 1 1]\n",
            "Done in: 3; [1 1 1 1 1]\n",
            "Done in: 4; [1 1 1 1 1]\n",
            "Done in: 5; [1 1 1 1 1]\n",
            "Done in: 6; [ 1 -5  1  1  1]\n",
            "Done in: 7; [1 1 1 1 1]\n",
            "Done in: 8; [1 1 1 1 1]\n",
            "Done in: 9; [ 1  1  1 -5  1]\n",
            "Done in: 10; [ 1  1  1 -5 -5]\n",
            "Done in: 11; [1 1 1 1 1]\n",
            "Done in: 12; [1 1 1 1 1]\n",
            "Done in: 13; [ 1  1  1  1 -5]\n",
            "Done in: 14; [ -6 -12   1   1   1]\n"
          ],
          "name": "stdout"
        },
        {
          "output_type": "display_data",
          "data": {
            "image/png": "[encoded data removed]",
            "text/plain": [
              "<Figure size 576x396 with 1 Axes>"
            ]
          },
          "metadata": {
            "tags": []
          }
        },
        {
          "output_type": "stream",
          "text": [
            " 12%|#1        | 2899/25000 [20:43<3:42:00,  1.66episodes/s]"
          ],
          "name": "stderr"
        },
        {
          "output_type": "stream",
          "text": [
            "Done in: 1; [ 1 -5  1  1  1]\n",
            "Done in: 2; [1 1 1 1 1]\n",
            "Done in: 3; [1 1 1 1 1]\n",
            "Done in: 4; [ 1  1 -5  1  1]\n",
            "Done in: 5; [ 1  1  1  1 -5]\n",
            "Done in: 6; [1 1 1 1 1]\n",
            "Done in: 7; [1 1 1 1 1]\n",
            "Done in: 8; [1 1 1 1 1]\n",
            "Done in: 9; [1 1 1 1 1]\n",
            "Done in: 10; [1 1 1 1 1]\n",
            "Done in: 11; [1 1 1 1 1]\n",
            "Done in: 12; [ 1 -5  1  1  1]\n",
            "Done in: 13; [1 1 1 1 1]\n",
            "Done in: 14; [ 1 -5  1  1  1]\n",
            "Done in: 15; [1 1 1 1 1]\n",
            "Done in: 16; [1 1 1 1 1]\n",
            "Done in: 17; [ 1  1  1 -5  1]\n",
            "Done in: 18; [ 1  1 -5  1  1]\n",
            "Done in: 19; [ 1  1 -5  1  1]\n",
            "Done in: 20; [ 1  1 -5  1  1]\n",
            "Done in: 21; [-5 -5 -5  1  1]\n",
            "Done in: 22; [ 4  1 -5  1  1]\n",
            "Done in: 23; [ 4  4 -5  1 -5]\n",
            "Done in: 24; [ 4  4 -5 -5 -5]\n",
            "Done in: 25; [ 4  4 -5  1 -5]\n",
            "Done in: 26; [ 4  4 -5  1 -5]\n",
            "Done in: 27; [ 4  4 -5  1  1]\n",
            "Done in: 28; [ 4  4 -5  1  4]\n",
            "Done in: 29; [ 4  4 -5  1  4]\n",
            "Done in: 30; [4 4 4 1 4]\n",
            "Done in: 31; [4 4 4 1 4]\n",
            "Done in: 32; [4 4 4 4 4]\n"
          ],
          "name": "stdout"
        },
        {
          "output_type": "display_data",
          "data": {
            "image/png": "[encoded data removed]",
            "text/plain": [
              "<Figure size 576x396 with 1 Axes>"
            ]
          },
          "metadata": {
            "tags": []
          }
        },
        {
          "output_type": "stream",
          "text": [
            " 12%|#1        | 2999/25000 [21:38<4:01:19,  1.52episodes/s]"
          ],
          "name": "stderr"
        },
        {
          "output_type": "stream",
          "text": [
            "Done in: 1; [ 1 -5  1  1  1]\n",
            "Done in: 2; [1 1 1 1 1]\n",
            "Done in: 3; [1 1 1 1 1]\n",
            "Done in: 4; [1 1 1 1 1]\n",
            "Done in: 5; [1 1 1 1 1]\n",
            "Done in: 6; [1 1 1 1 1]\n",
            "Done in: 7; [ 1  1 -5  1  1]\n",
            "Done in: 8; [1 1 1 1 1]\n",
            "Done in: 9; [1 1 1 1 1]\n",
            "Done in: 10; [1 1 1 1 1]\n",
            "Done in: 11; [1 1 1 1 1]\n",
            "Done in: 12; [-5  1  1  1 -5]\n",
            "Done in: 13; [1 1 1 1 1]\n",
            "Done in: 14; [ 1  1 -5  1 -5]\n",
            "Done in: 15; [ 1  1 -5  1 -5]\n",
            "Done in: 16; [1 1 1 1 1]\n",
            "Done in: 17; [1 1 1 1 1]\n",
            "Done in: 18; [ 1 -5  1  1 -5]\n",
            "Done in: 19; [ 1  1  1  1 -5]\n",
            "Done in: 20; [-5  1 -5  1 -5]\n",
            "Done in: 21; [  1   1 -12  -6  -5]\n"
          ],
          "name": "stdout"
        },
        {
          "output_type": "display_data",
          "data": {
            "image/png": "[encoded data removed]",
            "text/plain": [
              "<Figure size 576x396 with 1 Axes>"
            ]
          },
          "metadata": {
            "tags": []
          }
        },
        {
          "output_type": "stream",
          "text": [
            " 12%|#2        | 3099/25000 [22:33<3:17:56,  1.84episodes/s]"
          ],
          "name": "stderr"
        },
        {
          "output_type": "stream",
          "text": [
            "Done in: 1; [1 1 1 1 1]\n",
            "Done in: 2; [1 1 1 1 1]\n",
            "Done in: 3; [1 1 1 1 1]\n",
            "Done in: 4; [-5 -5 -5  1  1]\n",
            "Done in: 5; [ 1 -5  1  1  1]\n",
            "Done in: 6; [ 1  1 -5  1 -5]\n",
            "Done in: 7; [1 1 1 1 1]\n",
            "Done in: 8; [1 1 1 1 1]\n",
            "Done in: 9; [1 1 1 1 1]\n",
            "Done in: 10; [-5  1 -5 -5  1]\n",
            "Done in: 11; [1 1 1 1 1]\n",
            "Done in: 12; [1 1 1 1 1]\n",
            "Done in: 13; [1 1 1 1 1]\n",
            "Done in: 14; [1 1 1 1 1]\n",
            "Done in: 15; [1 1 1 1 1]\n",
            "Done in: 16; [1 1 1 1 1]\n",
            "Done in: 17; [-5  1  1  1  1]\n",
            "Done in: 18; [ 1  1 -5  1  1]\n",
            "Done in: 19; [ 1  1 -5  1  1]\n",
            "Done in: 20; [ 1  1 -5 -5 -5]\n",
            "Done in: 21; [ 1  1  4  1 -5]\n",
            "Done in: 22; [-5  4  4  1  4]\n",
            "Done in: 23; [1 4 4 1 4]\n",
            "Done in: 24; [-5  4  4  1  4]\n",
            "Done in: 25; [-5  4  4  1  4]\n",
            "Done in: 26; [4 4 4 1 4]\n",
            "Done in: 27; [4 4 4 1 4]\n",
            "Done in: 28; [4 4 4 1 4]\n",
            "Done in: 29; [4 4 4 4 4]\n"
          ],
          "name": "stdout"
        },
        {
          "output_type": "display_data",
          "data": {
            "image/png": "[encoded data removed]",
            "text/plain": [
              "<Figure size 576x396 with 1 Axes>"
            ]
          },
          "metadata": {
            "tags": []
          }
        },
        {
          "output_type": "stream",
          "text": [
            " 13%|#2        | 3198/25000 [23:35<3:09:44,  1.91episodes/s]"
          ],
          "name": "stderr"
        },
        {
          "output_type": "stream",
          "text": [
            "Done in: 1; [1 1 1 1 1]\n",
            "Done in: 2; [1 1 1 1 1]\n",
            "Done in: 3; [-5  1 -5  1  1]\n",
            "Done in: 4; [-5  1 -5  1 -5]\n",
            "Done in: 5; [1 1 1 1 1]\n",
            "Done in: 6; [1 1 1 1 1]\n",
            "Done in: 7; [ 1  1  1 -5 -5]\n",
            "Done in: 8; [ 1  1  1 -5  1]\n",
            "Done in: 9; [1 1 1 1 1]\n",
            "Done in: 10; [1 1 1 1 1]\n",
            "Done in: 11; [ 1 -5  1  1  1]\n",
            "Done in: 12; [ 1 -5 -5  1  1]\n",
            "Done in: 13; [ 1 -5 -5  1 -5]\n",
            "Done in: 14; [ 1  1  1  1 -5]\n",
            "Done in: 15; [ 1  1 -5 -5 -5]\n",
            "Done in: 16; [1 1 1 1 1]\n",
            "Done in: 17; [ 1  1 -5  1  1]\n",
            "Done in: 18; [1 1 1 1 1]\n",
            "Done in: 19; [-5  1  1  1  1]\n",
            "Done in: 20; [1 4 1 1 1]\n",
            "Done in: 21; [ 4  4  4 -5  1]\n",
            "Done in: 22; [4 4 4 1 1]\n",
            "Done in: 23; [4 4 4 1 1]\n",
            "Done in: 24; [4 4 4 1 1]\n",
            "Done in: 25; [4 4 4 1 1]\n",
            "Done in: 26; [ 4  4  4  1 -5]\n",
            "Done in: 27; [4 4 4 1 1]\n",
            "Done in: 28; [ 4  4  4  4 -5]\n",
            "Done in: 29; [ 4  4  4  4 -5]\n",
            "Done in: 30; [ 4  4  4  4 -5]\n",
            "Done in: 31; [ 4  4  4  4 -5]\n",
            "Done in: 32; [ 4  4  4  4 -5]\n",
            "Done in: 33; [ 4  4  4  4 -5]\n",
            "Done in: 34; [ 4  4  4  4 -5]\n",
            "Done in: 35; [ 4  4  4  4 -5]\n",
            "Done in: 36; [ 4  4  4  4 -5]\n",
            "Done in: 37; [ 4  4  4  4 -5]\n",
            "Done in: 38; [ 4  4  4  4 -5]\n",
            "Done in: 39; [ 4  4  4  4 -5]\n",
            "Done in: 40; [ 4  4  4  4 -5]\n",
            "Done in: 41; [ 4  4  4  4 -5]\n",
            "Done in: 42; [ 4  4  4  4 -5]\n",
            "Done in: 43; [ 4  4  4  4 -5]\n"
          ],
          "name": "stdout"
        },
        {
          "output_type": "display_data",
          "data": {
            "image/png": "[encoded data removed]",
            "text/plain": [
              "<Figure size 576x396 with 1 Axes>"
            ]
          },
          "metadata": {
            "tags": []
          }
        },
        {
          "output_type": "stream",
          "text": [
            " 13%|#3        | 3299/25000 [24:33<4:29:50,  1.34episodes/s]"
          ],
          "name": "stderr"
        },
        {
          "output_type": "stream",
          "text": [
            "Done in: 1; [1 1 1 1 1]\n",
            "Done in: 2; [1 1 1 1 1]\n",
            "Done in: 3; [1 1 1 1 1]\n",
            "Done in: 4; [ 1  1 -5  1  1]\n",
            "Done in: 5; [1 1 1 1 1]\n",
            "Done in: 6; [ 1  1 -5  1  1]\n",
            "Done in: 7; [1 1 1 1 1]\n",
            "Done in: 8; [-5  1  1  1  1]\n",
            "Done in: 9; [-5 -5  1  1  1]\n",
            "Done in: 10; [1 1 1 1 1]\n",
            "Done in: 11; [1 1 1 1 1]\n",
            "Done in: 12; [ 1 -5  1  1  1]\n",
            "Done in: 13; [ 1  1  1  1 -5]\n",
            "Done in: 14; [ 1  1  1  1 -5]\n",
            "Done in: 15; [-5  1  1  1  1]\n",
            "Done in: 16; [-5 -5  1  1 -5]\n",
            "Done in: 17; [-5 -5  1  1  1]\n",
            "Done in: 18; [-5 -5  1  1  1]\n",
            "Done in: 19; [-5  4  1  1  1]\n",
            "Done in: 20; [-5  4 -5  1  1]\n",
            "Done in: 21; [-5  4  1  1  1]\n",
            "Done in: 22; [-5  4  4  1  1]\n",
            "Done in: 23; [-5  4  4  1  1]\n",
            "Done in: 24; [-5  4  4  1  1]\n",
            "Done in: 25; [ 4  4  4  1 -5]\n",
            "Done in: 26; [4 4 4 1 1]\n",
            "Done in: 27; [4 4 4 1 4]\n",
            "Done in: 28; [4 4 4 1 4]\n",
            "Done in: 29; [4 4 4 1 4]\n",
            "Done in: 30; [4 4 4 4 4]\n"
          ],
          "name": "stdout"
        },
        {
          "output_type": "display_data",
          "data": {
            "image/png": "[encoded data removed]",
            "text/plain": [
              "<Figure size 576x396 with 1 Axes>"
            ]
          },
          "metadata": {
            "tags": []
          }
        },
        {
          "output_type": "stream",
          "text": [
            " 14%|#3        | 3399/25000 [25:32<3:58:30,  1.51episodes/s]"
          ],
          "name": "stderr"
        },
        {
          "output_type": "stream",
          "text": [
            "Done in: 1; [1 1 1 1 1]\n",
            "Done in: 2; [-5  1  1  1  1]\n",
            "Done in: 3; [1 1 1 1 1]\n",
            "Done in: 4; [1 1 1 1 1]\n",
            "Done in: 5; [ 1 -5  1  1  1]\n",
            "Done in: 6; [1 1 1 1 1]\n",
            "Done in: 7; [1 1 1 1 1]\n",
            "Done in: 8; [ 1 -5  1  1 -5]\n",
            "Done in: 9; [1 1 1 1 1]\n",
            "Done in: 10; [1 1 1 1 1]\n",
            "Done in: 11; [-5  1  1  1 -5]\n",
            "Done in: 12; [-5  1  1  1  1]\n",
            "Done in: 13; [1 1 1 1 1]\n",
            "Done in: 14; [ 1 -5  1  1  1]\n",
            "Done in: 15; [ 1 -5  1 -5 -5]\n",
            "Done in: 16; [ -6 -12   1   1   1]\n"
          ],
          "name": "stdout"
        },
        {
          "output_type": "display_data",
          "data": {
            "image/png": "[encoded data removed]",
            "text/plain": [
              "<Figure size 576x396 with 1 Axes>"
            ]
          },
          "metadata": {
            "tags": []
          }
        },
        {
          "output_type": "stream",
          "text": [
            " 14%|#3        | 3499/25000 [26:38<3:21:04,  1.78episodes/s]"
          ],
          "name": "stderr"
        },
        {
          "output_type": "stream",
          "text": [
            "Done in: 1; [1 1 1 1 1]\n",
            "Done in: 2; [1 1 1 1 1]\n",
            "Done in: 3; [1 1 1 1 1]\n",
            "Done in: 4; [1 1 1 1 1]\n",
            "Done in: 5; [1 1 1 1 1]\n",
            "Done in: 6; [ 1  1 -5  1 -5]\n",
            "Done in: 7; [1 1 1 1 1]\n",
            "Done in: 8; [1 1 1 1 1]\n",
            "Done in: 9; [-5  1 -5  1  1]\n",
            "Done in: 10; [1 1 1 1 1]\n",
            "Done in: 11; [1 1 1 1 1]\n",
            "Done in: 12; [1 1 1 1 1]\n",
            "Done in: 13; [-5  1  1  1  1]\n",
            "Done in: 14; [ 1  1  1 -5 -5]\n",
            "Done in: 15; [ 1  1  1  1 -5]\n",
            "Done in: 16; [ 1  1  1 -5 -5]\n",
            "Done in: 17; [ 1  1  1  1 -5]\n",
            "Done in: 18; [ 1  1  1  1 -5]\n",
            "Done in: 19; [ 1  1  1  1 -5]\n",
            "Done in: 20; [-5  1  1  1 -5]\n",
            "Done in: 21; [-5  1  1  1 -5]\n",
            "Done in: 22; [ 4  4  1  1 -5]\n",
            "Done in: 23; [ 4  4  1  1 -5]\n",
            "Done in: 24; [4 4 1 4 4]\n",
            "Done in: 25; [4 4 4 4 4]\n"
          ],
          "name": "stdout"
        },
        {
          "output_type": "display_data",
          "data": {
            "image/png": "[encoded data removed]",
            "text/plain": [
              "<Figure size 576x396 with 1 Axes>"
            ]
          },
          "metadata": {
            "tags": []
          }
        },
        {
          "output_type": "stream",
          "text": [
            " 14%|#4        | 3599/25000 [27:53<4:40:14,  1.27episodes/s]"
          ],
          "name": "stderr"
        },
        {
          "output_type": "stream",
          "text": [
            "Done in: 1; [ 1 -5  1  1  1]\n",
            "Done in: 2; [1 1 1 1 1]\n",
            "Done in: 3; [1 1 1 1 1]\n",
            "Done in: 4; [1 1 1 1 1]\n",
            "Done in: 5; [1 1 1 1 1]\n",
            "Done in: 6; [ 1  1  1 -5  1]\n",
            "Done in: 7; [1 1 1 1 1]\n",
            "Done in: 8; [1 1 1 1 1]\n",
            "Done in: 9; [1 1 1 1 1]\n",
            "Done in: 10; [1 1 1 1 1]\n",
            "Done in: 11; [1 1 1 1 1]\n",
            "Done in: 12; [-5  1  1  1  1]\n",
            "Done in: 13; [1 1 1 1 1]\n",
            "Done in: 14; [1 1 1 1 1]\n",
            "Done in: 15; [1 1 1 1 1]\n",
            "Done in: 16; [1 1 1 1 1]\n",
            "Done in: 17; [1 1 1 1 1]\n",
            "Done in: 18; [-5  1  1 -5  1]\n",
            "Done in: 19; [-5  1 -5  1  1]\n",
            "Done in: 20; [ 4  1 -5  1  1]\n",
            "Done in: 21; [ 4  1 -5  1  1]\n",
            "Done in: 22; [ 4  4 -5  1  1]\n",
            "Done in: 23; [ 4  4 -5  1  4]\n",
            "Done in: 24; [ 4  4 -5  1  4]\n",
            "Done in: 25; [ 4  4 -5  1  4]\n",
            "Done in: 26; [4 4 4 4 4]\n"
          ],
          "name": "stdout"
        },
        {
          "output_type": "display_data",
          "data": {
            "image/png": "[encoded data removed]",
            "text/plain": [
              "<Figure size 576x396 with 1 Axes>"
            ]
          },
          "metadata": {
            "tags": []
          }
        },
        {
          "output_type": "stream",
          "text": [
            " 15%|#4        | 3699/25000 [29:07<4:28:43,  1.32episodes/s]"
          ],
          "name": "stderr"
        },
        {
          "output_type": "stream",
          "text": [
            "Done in: 1; [1 1 1 1 1]\n",
            "Done in: 2; [1 1 1 1 1]\n",
            "Done in: 3; [-5  1  1  1  1]\n",
            "Done in: 4; [ 1 -5  1  1  1]\n",
            "Done in: 5; [1 1 1 1 1]\n",
            "Done in: 6; [ 1  1 -5  1  1]\n",
            "Done in: 7; [1 1 1 1 1]\n",
            "Done in: 8; [1 1 1 1 1]\n",
            "Done in: 9; [ 1  1  1  1 -5]\n",
            "Done in: 10; [-5  1 -5  1  1]\n",
            "Done in: 11; [-5  1 -5  1  1]\n",
            "Done in: 12; [ 1  1  1 -5  1]\n",
            "Done in: 13; [ 1 -5 -5  1  1]\n",
            "Done in: 14; [-5 -5 -5 -5  1]\n",
            "Done in: 15; [-5  1 -5  1  1]\n",
            "Done in: 16; [ 1  1 -5 -5  1]\n",
            "Done in: 17; [1 1 1 1 1]\n",
            "Done in: 18; [ 1  1 -5  1  1]\n",
            "Done in: 19; [ 1  1 -5  1  1]\n",
            "Done in: 20; [ 1  1 -5  1  1]\n",
            "Done in: 21; [ 1  4  1  1 -5]\n",
            "Done in: 22; [ 1  4  4  1 -5]\n",
            "Done in: 23; [-5  4  4  1 -5]\n",
            "Done in: 24; [1 4 4 1 4]\n",
            "Done in: 25; [1 4 4 1 4]\n",
            "Done in: 26; [1 4 4 1 4]\n",
            "Done in: 27; [-5  4  4  4  4]\n",
            "Done in: 28; [1 4 4 4 4]\n",
            "Done in: 29; [-5  4  4  4  4]\n",
            "Done in: 30; [1 4 4 4 4]\n",
            "Done in: 31; [1 4 4 4 4]\n",
            "Done in: 32; [1 4 4 4 4]\n",
            "Done in: 33; [4 4 4 4 4]\n"
          ],
          "name": "stdout"
        },
        {
          "output_type": "display_data",
          "data": {
            "image/png": "[encoded data removed]",
            "text/plain": [
              "<Figure size 576x396 with 1 Axes>"
            ]
          },
          "metadata": {
            "tags": []
          }
        },
        {
          "output_type": "stream",
          "text": [
            " 15%|#5        | 3799/25000 [30:19<4:38:17,  1.27episodes/s]"
          ],
          "name": "stderr"
        },
        {
          "output_type": "stream",
          "text": [
            "Done in: 1; [ 1 -5  1  1  1]\n",
            "Done in: 2; [1 1 1 1 1]\n",
            "Done in: 3; [1 1 1 1 1]\n",
            "Done in: 4; [1 1 1 1 1]\n",
            "Done in: 5; [ 1 -5 -5  1  1]\n",
            "Done in: 6; [1 1 1 1 1]\n",
            "Done in: 7; [1 1 1 1 1]\n",
            "Done in: 8; [ 1  1 -5  1  1]\n",
            "Done in: 9; [1 1 1 1 1]\n",
            "Done in: 10; [ 1  1  1  1 -5]\n",
            "Done in: 11; [ 1  1  1  1 -5]\n",
            "Done in: 12; [ 1  1  1  1 -5]\n",
            "Done in: 13; [ 1  1  1  1 -5]\n",
            "Done in: 14; [ 1  1  1  1 -5]\n",
            "Done in: 15; [ 1 -5  1  1  1]\n",
            "Done in: 16; [1 1 1 1 1]\n",
            "Done in: 17; [1 1 1 1 1]\n",
            "Done in: 18; [1 1 1 1 1]\n",
            "Done in: 19; [-5  1  1  1  1]\n",
            "Done in: 20; [-5  4  1  1  4]\n",
            "Done in: 21; [4 4 1 1 4]\n",
            "Done in: 22; [ 4  4 -5  1  4]\n",
            "Done in: 23; [ 4  4 -5  1  4]\n",
            "Done in: 24; [4 4 4 1 4]\n",
            "Done in: 25; [4 4 4 1 4]\n",
            "Done in: 26; [4 4 4 1 4]\n",
            "Done in: 27; [4 4 4 1 4]\n",
            "Done in: 28; [4 4 4 1 4]\n",
            "Done in: 29; [4 4 4 1 4]\n",
            "Done in: 30; [ 4  4  4 -5  4]\n",
            "Done in: 31; [ 4  4  4 -5  4]\n",
            "Done in: 32; [ 4  4  4 -5  4]\n",
            "Done in: 33; [4 4 4 1 4]\n",
            "Done in: 34; [4 4 4 1 4]\n",
            "Done in: 35; [4 4 4 1 4]\n",
            "Done in: 36; [ 4  4  4 -5  4]\n",
            "Done in: 37; [4 4 4 4 4]\n"
          ],
          "name": "stdout"
        },
        {
          "output_type": "display_data",
          "data": {
            "image/png": "[encoded data removed]",
            "text/plain": [
              "<Figure size 576x396 with 1 Axes>"
            ]
          },
          "metadata": {
            "tags": []
          }
        },
        {
          "output_type": "stream",
          "text": [
            " 16%|#5        | 3899/25000 [31:39<3:36:13,  1.63episodes/s]"
          ],
          "name": "stderr"
        },
        {
          "output_type": "stream",
          "text": [
            "Done in: 1; [ 1 -5  1  1  1]\n",
            "Done in: 2; [1 1 1 1 1]\n",
            "Done in: 3; [1 1 1 1 1]\n",
            "Done in: 4; [1 1 1 1 1]\n",
            "Done in: 5; [1 1 1 1 1]\n",
            "Done in: 6; [ 1  1 -5  1  1]\n",
            "Done in: 7; [1 1 1 1 1]\n",
            "Done in: 8; [1 1 1 1 1]\n",
            "Done in: 9; [ 1  1 -5  1 -5]\n",
            "Done in: 10; [-5  1  1  1  1]\n",
            "Done in: 11; [1 1 1 1 1]\n",
            "Done in: 12; [ 1 -5  1  1  1]\n",
            "Done in: 13; [1 1 1 1 1]\n",
            "Done in: 14; [1 1 1 1 1]\n",
            "Done in: 15; [ 1  1 -5 -5  1]\n",
            "Done in: 16; [1 1 1 1 1]\n",
            "Done in: 17; [1 1 1 1 1]\n",
            "Done in: 18; [-5  1  1  1  1]\n",
            "Done in: 19; [-5 -5  1  1 -5]\n",
            "Done in: 20; [-5  4 -5  1 -5]\n",
            "Done in: 21; [ 4  4 -5  1  4]\n",
            "Done in: 22; [ 4  4 -5  1  4]\n",
            "Done in: 23; [4 4 4 1 4]\n",
            "Done in: 24; [4 4 4 1 4]\n",
            "Done in: 25; [4 4 4 1 4]\n",
            "Done in: 26; [4 4 4 1 4]\n",
            "Done in: 27; [4 4 4 1 4]\n",
            "Done in: 28; [4 4 4 4 4]\n"
          ],
          "name": "stdout"
        },
        {
          "output_type": "display_data",
          "data": {
            "image/png": "[encoded data removed]",
            "text/plain": [
              "<Figure size 576x396 with 1 Axes>"
            ]
          },
          "metadata": {
            "tags": []
          }
        },
        {
          "output_type": "stream",
          "text": [
            " 16%|#5        | 3999/25000 [32:51<4:22:41,  1.33episodes/s]"
          ],
          "name": "stderr"
        },
        {
          "output_type": "stream",
          "text": [
            "Done in: 1; [1 1 1 1 1]\n",
            "Done in: 2; [1 1 1 1 1]\n",
            "Done in: 3; [1 1 1 1 1]\n",
            "Done in: 4; [1 1 1 1 1]\n",
            "Done in: 5; [1 1 1 1 1]\n",
            "Done in: 6; [ 1  1 -5  1  1]\n",
            "Done in: 7; [1 1 1 1 1]\n",
            "Done in: 8; [1 1 1 1 1]\n",
            "Done in: 9; [1 1 1 1 1]\n",
            "Done in: 10; [1 1 1 1 1]\n",
            "Done in: 11; [1 1 1 1 1]\n",
            "Done in: 12; [ 1 -5  1  1  1]\n",
            "Done in: 13; [ 1  1  1  1 -5]\n",
            "Done in: 14; [1 1 1 1 1]\n",
            "Done in: 15; [1 1 1 1 1]\n",
            "Done in: 16; [1 1 1 1 1]\n",
            "Done in: 17; [1 1 1 1 1]\n",
            "Done in: 18; [1 1 1 1 1]\n",
            "Done in: 19; [ 1  1 -5  1  1]\n",
            "Done in: 20; [ 1  1 -5  1  1]\n",
            "Done in: 21; [ 1  1 -5  1  1]\n",
            "Done in: 22; [ 1  1  4 -5  1]\n",
            "Done in: 23; [-5  4  4  4 -5]\n",
            "Done in: 24; [1 4 4 4 4]\n",
            "Done in: 25; [-5  4  4  4  4]\n",
            "Done in: 26; [4 4 4 4 4]\n"
          ],
          "name": "stdout"
        },
        {
          "output_type": "display_data",
          "data": {
            "image/png": "[encoded data removed]",
            "text/plain": [
              "<Figure size 576x396 with 1 Axes>"
            ]
          },
          "metadata": {
            "tags": []
          }
        },
        {
          "output_type": "stream",
          "text": [
            " 16%|#6        | 4099/25000 [34:03<4:34:04,  1.27episodes/s]"
          ],
          "name": "stderr"
        },
        {
          "output_type": "stream",
          "text": [
            "Done in: 1; [1 1 1 1 1]\n",
            "Done in: 2; [1 1 1 1 1]\n",
            "Done in: 3; [1 1 1 1 1]\n",
            "Done in: 4; [1 1 1 1 1]\n",
            "Done in: 5; [-5  1 -5  1  1]\n",
            "Done in: 6; [1 1 1 1 1]\n",
            "Done in: 7; [1 1 1 1 1]\n",
            "Done in: 8; [1 1 1 1 1]\n",
            "Done in: 9; [1 1 1 1 1]\n",
            "Done in: 10; [1 1 1 1 1]\n",
            "Done in: 11; [1 1 1 1 1]\n",
            "Done in: 12; [1 1 1 1 1]\n",
            "Done in: 13; [1 1 1 1 1]\n",
            "Done in: 14; [ 1 -5  1  1  1]\n",
            "Done in: 15; [1 1 1 1 1]\n",
            "Done in: 16; [-5  1  1  1  1]\n",
            "Done in: 17; [1 1 1 1 1]\n",
            "Done in: 18; [ 1  1 -5  1  1]\n",
            "Done in: 19; [ 1  1 -5  1  1]\n",
            "Done in: 20; [ 1 -5 -5  1 -5]\n",
            "Done in: 21; [ 1 -5 -5  1 -5]\n",
            "Done in: 22; [-5  4 -5  1  4]\n",
            "Done in: 23; [ 1  4 -5  1  4]\n",
            "Done in: 24; [ 4  4 -5 -5  4]\n",
            "Done in: 25; [ 4  4 -5 -5  4]\n",
            "Done in: 26; [ 4  4 -5 -5  4]\n",
            "Done in: 27; [ 4  4 -5 -5  4]\n",
            "Done in: 28; [ 4  4 -5 -5  4]\n",
            "Done in: 29; [ 4  4 -5 -5  4]\n",
            "Done in: 30; [ 4  4 -5 -5  4]\n",
            "Done in: 31; [ 4  4  4 -5  4]\n",
            "Done in: 32; [ 4  4  4 -5  4]\n",
            "Done in: 33; [ 4  4  4 -5  4]\n",
            "Done in: 34; [4 4 4 1 4]\n",
            "Done in: 35; [4 4 4 1 4]\n",
            "Done in: 36; [4 4 4 4 4]\n"
          ],
          "name": "stdout"
        },
        {
          "output_type": "display_data",
          "data": {
            "image/png": "[encoded data removed]",
            "text/plain": [
              "<Figure size 576x396 with 1 Axes>"
            ]
          },
          "metadata": {
            "tags": []
          }
        },
        {
          "output_type": "stream",
          "text": [
            " 17%|#6        | 4199/25000 [35:18<3:56:55,  1.46episodes/s]"
          ],
          "name": "stderr"
        },
        {
          "output_type": "stream",
          "text": [
            "Done in: 1; [1 1 1 1 1]\n",
            "Done in: 2; [1 1 1 1 1]\n",
            "Done in: 3; [ 1  1  1  1 -5]\n",
            "Done in: 4; [1 1 1 1 1]\n",
            "Done in: 5; [1 1 1 1 1]\n",
            "Done in: 6; [1 1 1 1 1]\n",
            "Done in: 7; [1 1 1 1 1]\n",
            "Done in: 8; [1 1 1 1 1]\n",
            "Done in: 9; [ 1 -6 -6  1  1]\n"
          ],
          "name": "stdout"
        },
        {
          "output_type": "display_data",
          "data": {
            "image/png": "[encoded data removed]",
            "text/plain": [
              "<Figure size 576x396 with 1 Axes>"
            ]
          },
          "metadata": {
            "tags": []
          }
        },
        {
          "output_type": "stream",
          "text": [
            " 17%|#7        | 4299/25000 [36:36<3:10:49,  1.81episodes/s]"
          ],
          "name": "stderr"
        },
        {
          "output_type": "stream",
          "text": [
            "Done in: 1; [ 1 -5  1  1  1]\n",
            "Done in: 2; [1 1 1 1 1]\n",
            "Done in: 3; [1 1 1 1 1]\n",
            "Done in: 4; [1 1 1 1 1]\n",
            "Done in: 5; [1 1 1 1 1]\n",
            "Done in: 6; [1 1 1 1 1]\n",
            "Done in: 7; [ 1  1 -5  1  1]\n",
            "Done in: 8; [1 1 1 1 1]\n",
            "Done in: 9; [1 1 1 1 1]\n",
            "Done in: 10; [1 1 1 1 1]\n",
            "Done in: 11; [1 1 1 1 1]\n",
            "Done in: 12; [1 1 1 1 1]\n",
            "Done in: 13; [-5 -5  1  1  1]\n",
            "Done in: 14; [1 1 1 1 1]\n",
            "Done in: 15; [1 1 1 1 1]\n",
            "Done in: 16; [1 1 1 1 1]\n",
            "Done in: 17; [1 1 1 1 1]\n",
            "Done in: 18; [ 1  1  1  1 -5]\n",
            "Done in: 19; [1 1 1 1 1]\n",
            "Done in: 20; [ 1 -5  1  1  4]\n",
            "Done in: 21; [1 4 1 1 4]\n",
            "Done in: 22; [1 4 1 1 4]\n",
            "Done in: 23; [-5  4  1  1  4]\n",
            "Done in: 24; [-5  4  1  1  4]\n",
            "Done in: 25; [4 4 1 4 4]\n",
            "Done in: 26; [4 4 1 4 4]\n",
            "Done in: 27; [4 4 1 4 4]\n",
            "Done in: 28; [4 4 1 4 4]\n",
            "Done in: 29; [4 4 1 4 4]\n",
            "Done in: 30; [4 4 1 4 4]\n",
            "Done in: 31; [ 4  4 -5  4  4]\n",
            "Done in: 32; [4 4 4 4 4]\n"
          ],
          "name": "stdout"
        },
        {
          "output_type": "display_data",
          "data": {
            "image/png": "[encoded data removed]",
            "text/plain": [
              "<Figure size 576x396 with 1 Axes>"
            ]
          },
          "metadata": {
            "tags": []
          }
        },
        {
          "output_type": "stream",
          "text": [
            " 18%|#7        | 4399/25000 [37:52<3:55:21,  1.46episodes/s]"
          ],
          "name": "stderr"
        },
        {
          "output_type": "stream",
          "text": [
            "Done in: 1; [1 1 1 1 1]\n",
            "Done in: 2; [1 1 1 1 1]\n",
            "Done in: 3; [1 1 1 1 1]\n",
            "Done in: 4; [1 1 1 1 1]\n",
            "Done in: 5; [1 1 1 1 1]\n",
            "Done in: 6; [1 1 1 1 1]\n",
            "Done in: 7; [1 1 1 1 1]\n",
            "Done in: 8; [1 1 1 1 1]\n",
            "Done in: 9; [ 1  1 -5  1  1]\n",
            "Done in: 10; [1 1 1 1 1]\n",
            "Done in: 11; [1 1 1 1 1]\n",
            "Done in: 12; [1 1 1 1 1]\n",
            "Done in: 13; [1 1 1 1 1]\n",
            "Done in: 14; [1 1 1 1 1]\n",
            "Done in: 15; [1 1 1 1 1]\n",
            "Done in: 16; [1 1 1 1 1]\n",
            "Done in: 17; [1 1 1 1 1]\n",
            "Done in: 18; [ 1  1  1  1 -5]\n",
            "Done in: 19; [ 1  4  1  1 -5]\n",
            "Done in: 20; [ 1  4  1  1 -5]\n",
            "Done in: 21; [-5  4  1  1  4]\n",
            "Done in: 22; [-5  4 -5  1  4]\n",
            "Done in: 23; [4 4 1 1 4]\n",
            "Done in: 24; [4 4 4 1 4]\n",
            "Done in: 25; [4 4 4 1 4]\n",
            "Done in: 26; [ 4  4  4 -5  4]\n",
            "Done in: 27; [4 4 4 4 4]\n"
          ],
          "name": "stdout"
        },
        {
          "output_type": "display_data",
          "data": {
            "image/png": "[encoded data removed]",
            "text/plain": [
              "<Figure size 576x396 with 1 Axes>"
            ]
          },
          "metadata": {
            "tags": []
          }
        },
        {
          "output_type": "stream",
          "text": [
            " 18%|#7        | 4499/25000 [39:13<4:10:19,  1.36episodes/s]"
          ],
          "name": "stderr"
        },
        {
          "output_type": "stream",
          "text": [
            "Done in: 1; [1 1 1 1 1]\n",
            "Done in: 2; [1 1 1 1 1]\n",
            "Done in: 3; [1 1 1 1 1]\n",
            "Done in: 4; [1 1 1 1 1]\n",
            "Done in: 5; [1 1 1 1 1]\n",
            "Done in: 6; [1 1 1 1 1]\n",
            "Done in: 7; [1 1 1 1 1]\n",
            "Done in: 8; [1 1 1 1 1]\n",
            "Done in: 9; [1 1 1 1 1]\n",
            "Done in: 10; [1 1 1 1 1]\n",
            "Done in: 11; [1 1 1 1 1]\n",
            "Done in: 12; [1 1 1 1 1]\n",
            "Done in: 13; [1 1 1 1 1]\n",
            "Done in: 14; [1 1 1 1 1]\n",
            "Done in: 15; [1 1 1 1 1]\n",
            "Done in: 16; [1 1 1 1 1]\n",
            "Done in: 17; [-5  1  1  1  1]\n",
            "Done in: 18; [-5  1  1  1  1]\n",
            "Done in: 19; [-5 -5  1  1  1]\n",
            "Done in: 20; [4 4 1 1 1]\n",
            "Done in: 21; [4 4 1 1 4]\n",
            "Done in: 22; [ 4  4  1 -5  4]\n",
            "Done in: 23; [4 4 1 4 4]\n",
            "Done in: 24; [ 4  4 -5  4  4]\n",
            "Done in: 25; [4 4 1 4 4]\n",
            "Done in: 26; [ 4  4 -5  4  4]\n",
            "Done in: 27; [4 4 1 4 4]\n",
            "Done in: 28; [4 4 4 4 4]\n"
          ],
          "name": "stdout"
        },
        {
          "output_type": "display_data",
          "data": {
            "image/png": "[encoded data removed]",
            "text/plain": [
              "<Figure size 576x396 with 1 Axes>"
            ]
          },
          "metadata": {
            "tags": []
          }
        },
        {
          "output_type": "stream",
          "text": [
            " 18%|#8        | 4599/25000 [40:36<4:29:47,  1.26episodes/s]"
          ],
          "name": "stderr"
        },
        {
          "output_type": "stream",
          "text": [
            "Done in: 1; [ 1 -5  1  1  1]\n",
            "Done in: 2; [1 1 1 1 1]\n",
            "Done in: 3; [1 1 1 1 1]\n",
            "Done in: 4; [1 1 1 1 1]\n",
            "Done in: 5; [1 1 1 1 1]\n",
            "Done in: 6; [1 1 1 1 1]\n",
            "Done in: 7; [1 1 1 1 1]\n",
            "Done in: 8; [1 1 1 1 1]\n",
            "Done in: 9; [1 1 1 1 1]\n",
            "Done in: 10; [1 1 1 1 1]\n",
            "Done in: 11; [1 1 1 1 1]\n",
            "Done in: 12; [1 1 1 1 1]\n",
            "Done in: 13; [1 1 1 1 1]\n",
            "Done in: 14; [1 1 1 1 1]\n",
            "Done in: 15; [ 1 -5  1  1 -5]\n",
            "Done in: 16; [1 1 1 1 1]\n",
            "Done in: 17; [1 1 1 1 1]\n",
            "Done in: 18; [1 1 1 1 1]\n",
            "Done in: 19; [ 1  1 -5  1  1]\n",
            "Done in: 20; [ 1  4 -5  1  1]\n",
            "Done in: 21; [ 1  4 -5  1  4]\n",
            "Done in: 22; [ 1  4 -5  1  4]\n",
            "Done in: 23; [-5  4  4  1  4]\n",
            "Done in: 24; [1 4 4 1 4]\n",
            "Done in: 25; [-5  4  4  1  4]\n",
            "Done in: 26; [1 4 4 1 4]\n",
            "Done in: 27; [1 4 4 1 4]\n",
            "Done in: 28; [4 4 4 1 4]\n",
            "Done in: 29; [4 4 4 1 4]\n",
            "Done in: 30; [4 4 4 1 4]\n",
            "Done in: 31; [4 4 4 1 4]\n",
            "Done in: 32; [4 4 4 4 4]\n"
          ],
          "name": "stdout"
        },
        {
          "output_type": "display_data",
          "data": {
            "image/png": "[encoded data removed]",
            "text/plain": [
              "<Figure size 576x396 with 1 Axes>"
            ]
          },
          "metadata": {
            "tags": []
          }
        },
        {
          "output_type": "stream",
          "text": [
            " 19%|#8        | 4699/25000 [41:52<4:43:29,  1.19episodes/s]"
          ],
          "name": "stderr"
        },
        {
          "output_type": "stream",
          "text": [
            "Done in: 1; [ 1 -5  1  1  1]\n",
            "Done in: 2; [1 1 1 1 1]\n",
            "Done in: 3; [1 1 1 1 1]\n",
            "Done in: 4; [1 1 1 1 1]\n",
            "Done in: 5; [1 1 1 1 1]\n",
            "Done in: 6; [1 1 1 1 1]\n",
            "Done in: 7; [1 1 1 1 1]\n",
            "Done in: 8; [1 1 1 1 1]\n",
            "Done in: 9; [1 1 1 1 1]\n",
            "Done in: 10; [1 1 1 1 1]\n",
            "Done in: 11; [1 1 1 1 1]\n",
            "Done in: 12; [1 1 1 1 1]\n",
            "Done in: 13; [1 1 1 1 1]\n",
            "Done in: 14; [1 1 1 1 1]\n",
            "Done in: 15; [1 1 1 1 1]\n",
            "Done in: 16; [1 1 1 1 1]\n",
            "Done in: 17; [1 1 1 1 1]\n",
            "Done in: 18; [ 1 -5  1  1  1]\n",
            "Done in: 19; [-5  4  1  1  4]\n",
            "Done in: 20; [-5  4 -5  1  4]\n",
            "Done in: 21; [4 4 1 1 4]\n",
            "Done in: 22; [4 4 4 1 4]\n",
            "Done in: 23; [4 4 4 1 4]\n",
            "Done in: 24; [4 4 4 1 4]\n",
            "Done in: 25; [4 4 4 1 4]\n",
            "Done in: 26; [4 4 4 1 4]\n",
            "Done in: 27; [4 4 4 4 4]\n"
          ],
          "name": "stdout"
        },
        {
          "output_type": "display_data",
          "data": {
            "image/png": "[encoded data removed]",
            "text/plain": [
              "<Figure size 576x396 with 1 Axes>"
            ]
          },
          "metadata": {
            "tags": []
          }
        },
        {
          "output_type": "stream",
          "text": [
            " 19%|#9        | 4799/25000 [43:11<4:24:23,  1.27episodes/s]"
          ],
          "name": "stderr"
        },
        {
          "output_type": "stream",
          "text": [
            "Done in: 1; [ 1 -5  1  1  1]\n",
            "Done in: 2; [1 1 1 1 1]\n",
            "Done in: 3; [1 1 1 1 1]\n",
            "Done in: 4; [1 1 1 1 1]\n",
            "Done in: 5; [1 1 1 1 1]\n",
            "Done in: 6; [-5  1 -5  1  1]\n",
            "Done in: 7; [1 1 1 1 1]\n",
            "Done in: 8; [1 1 1 1 1]\n",
            "Done in: 9; [1 1 1 1 1]\n",
            "Done in: 10; [ 1 -5  1 -5  1]\n",
            "Done in: 11; [1 1 1 1 1]\n",
            "Done in: 12; [ 1  1  1 -5  1]\n",
            "Done in: 13; [1 1 1 1 1]\n",
            "Done in: 14; [1 1 1 1 1]\n",
            "Done in: 15; [1 1 1 1 1]\n",
            "Done in: 16; [1 1 1 1 1]\n",
            "Done in: 17; [ 1  1  1  1 -5]\n",
            "Done in: 18; [ 1 -5  1  1  1]\n",
            "Done in: 19; [-5 -5  1  1  1]\n",
            "Done in: 20; [ 1 -5  1 -5  1]\n",
            "Done in: 21; [ 1  1  1 -5  1]\n",
            "Done in: 22; [4 1 1 4 1]\n",
            "Done in: 23; [4 1 1 4 1]\n",
            "Done in: 24; [4 1 1 4 1]\n",
            "Done in: 25; [4 4 1 4 1]\n",
            "Done in: 26; [4 4 1 4 1]\n",
            "Done in: 27; [4 4 1 4 1]\n",
            "Done in: 28; [4 4 1 4 1]\n",
            "Done in: 29; [4 4 4 4 1]\n",
            "Done in: 30; [4 4 4 4 1]\n",
            "Done in: 31; [ 4  4  4  4 -5]\n",
            "Done in: 32; [4 4 4 4 1]\n",
            "Done in: 33; [4 4 4 4 4]\n"
          ],
          "name": "stdout"
        },
        {
          "output_type": "display_data",
          "data": {
            "image/png": "[encoded data removed]",
            "text/plain": [
              "<Figure size 576x396 with 1 Axes>"
            ]
          },
          "metadata": {
            "tags": []
          }
        },
        {
          "output_type": "stream",
          "text": [
            " 20%|#9        | 4899/25000 [44:34<3:34:52,  1.56episodes/s]"
          ],
          "name": "stderr"
        },
        {
          "output_type": "stream",
          "text": [
            "Done in: 1; [ 1 -5  1  1  1]\n",
            "Done in: 2; [1 1 1 1 1]\n",
            "Done in: 3; [1 1 1 1 1]\n",
            "Done in: 4; [1 1 1 1 1]\n",
            "Done in: 5; [1 1 1 1 1]\n",
            "Done in: 6; [1 1 1 1 1]\n",
            "Done in: 7; [1 1 1 1 1]\n",
            "Done in: 8; [1 1 1 1 1]\n",
            "Done in: 9; [-5  1  1  1 -5]\n",
            "Done in: 10; [ 1 -5 -5 -5  1]\n",
            "Done in: 11; [-5  1  1  1  1]\n",
            "Done in: 12; [-5 -5  1  1  1]\n",
            "Done in: 13; [1 1 1 1 1]\n",
            "Done in: 14; [1 1 1 1 1]\n",
            "Done in: 15; [1 1 1 1 1]\n",
            "Done in: 16; [ 1  1  1  1 -5]\n",
            "Done in: 17; [ 1  1  1  1 -5]\n",
            "Done in: 18; [ 1  1  1  1 -5]\n",
            "Done in: 19; [-5  1  1  1  4]\n",
            "Done in: 20; [-5  1  1  1  4]\n",
            "Done in: 21; [-5  4  1  1  4]\n",
            "Done in: 22; [4 4 1 1 4]\n",
            "Done in: 23; [4 4 1 1 4]\n",
            "Done in: 24; [4 4 1 1 4]\n",
            "Done in: 25; [4 4 1 1 4]\n",
            "Done in: 26; [ 4  4 -5  1  4]\n",
            "Done in: 27; [ 4  4 -5  4  4]\n",
            "Done in: 28; [ 4  4 -5  4  4]\n",
            "Done in: 29; [ 4  4 -5  4  4]\n",
            "Done in: 30; [ 4  4 -5  4  4]\n",
            "Done in: 31; [ 4  4 -5  4  4]\n",
            "Done in: 32; [ 4  4 -5  4  4]\n",
            "Done in: 33; [ 4  4 -5  4  4]\n",
            "Done in: 34; [ 4  4 -5  4  4]\n",
            "Done in: 35; [ 4  4 -5  4  4]\n",
            "Done in: 36; [ 4  4 -5  4  4]\n",
            "Done in: 37; [ 4  4 -5  4  4]\n",
            "Done in: 38; [ 4  4 -5  4  4]\n",
            "Done in: 39; [ 4  4 -5  4  4]\n",
            "Done in: 40; [ 4  4 -5  4  4]\n",
            "Done in: 41; [ 4  4 -5  4  4]\n",
            "Done in: 42; [ 4  4 -5  4  4]\n",
            "Done in: 43; [ 4  4 -5  4  4]\n"
          ],
          "name": "stdout"
        },
        {
          "output_type": "display_data",
          "data": {
            "image/png": "[encoded data removed]",
            "text/plain": [
              "<Figure size 576x396 with 1 Axes>"
            ]
          },
          "metadata": {
            "tags": []
          }
        },
        {
          "output_type": "stream",
          "text": [
            " 20%|#9        | 4999/25000 [45:54<5:05:13,  1.09episodes/s]"
          ],
          "name": "stderr"
        },
        {
          "output_type": "stream",
          "text": [
            "Done in: 1; [ 1 -5  1  1  1]\n",
            "Done in: 2; [1 1 1 1 1]\n",
            "Done in: 3; [1 1 1 1 1]\n",
            "Done in: 4; [1 1 1 1 1]\n",
            "Done in: 5; [1 1 1 1 1]\n",
            "Done in: 6; [1 1 1 1 1]\n",
            "Done in: 7; [1 1 1 1 1]\n",
            "Done in: 8; [1 1 1 1 1]\n",
            "Done in: 9; [1 1 1 1 1]\n",
            "Done in: 10; [1 1 1 1 1]\n",
            "Done in: 11; [1 1 1 1 1]\n",
            "Done in: 12; [1 1 1 1 1]\n",
            "Done in: 13; [1 1 1 1 1]\n",
            "Done in: 14; [1 1 1 1 1]\n",
            "Done in: 15; [ 1  1 -5  1  1]\n",
            "Done in: 16; [1 1 1 1 1]\n",
            "Done in: 17; [1 1 1 1 1]\n",
            "Done in: 18; [1 1 1 1 1]\n",
            "Done in: 19; [1 1 1 1 4]\n",
            "Done in: 20; [1 1 1 1 4]\n",
            "Done in: 21; [1 4 1 1 4]\n",
            "Done in: 22; [ 1  4 -5  1  4]\n",
            "Done in: 23; [ 1  4 -5  4  4]\n",
            "Done in: 24; [1 4 1 4 4]\n",
            "Done in: 25; [-5  4  4  4  4]\n",
            "Done in: 26; [1 4 4 4 4]\n",
            "Done in: 27; [-5  4  4  4  4]\n",
            "Done in: 28; [4 4 4 4 4]\n"
          ],
          "name": "stdout"
        },
        {
          "output_type": "display_data",
          "data": {
            "image/png": "[encoded data removed]",
            "text/plain": [
              "<Figure size 576x396 with 1 Axes>"
            ]
          },
          "metadata": {
            "tags": []
          }
        },
        {
          "output_type": "stream",
          "text": [
            " 20%|##        | 5099/25000 [47:20<5:27:26,  1.01episodes/s]"
          ],
          "name": "stderr"
        },
        {
          "output_type": "stream",
          "text": [
            "Done in: 1; [ 1 -5  1  1  1]\n",
            "Done in: 2; [ 1 -5  1  1 -5]\n",
            "Done in: 3; [ 1 -5  1  1  1]\n",
            "Done in: 4; [1 1 1 1 1]\n",
            "Done in: 5; [1 1 1 1 1]\n",
            "Done in: 6; [ 1  1  1  1 -5]\n",
            "Done in: 7; [1 1 1 1 1]\n",
            "Done in: 8; [1 1 1 1 1]\n",
            "Done in: 9; [1 1 1 1 1]\n",
            "Done in: 10; [1 1 1 1 1]\n",
            "Done in: 11; [1 1 1 1 1]\n",
            "Done in: 12; [1 1 1 1 1]\n",
            "Done in: 13; [1 1 1 1 1]\n",
            "Done in: 14; [1 1 1 1 1]\n",
            "Done in: 15; [1 1 1 1 1]\n",
            "Done in: 16; [1 1 1 1 1]\n",
            "Done in: 17; [1 1 1 1 1]\n",
            "Done in: 18; [1 1 1 1 1]\n",
            "Done in: 19; [1 4 1 1 1]\n",
            "Done in: 20; [ 1  4 -5  1  1]\n",
            "Done in: 21; [-5  4 -5  1  4]\n",
            "Done in: 22; [-5  4 -5  1  4]\n",
            "Done in: 23; [4 4 4 1 4]\n",
            "Done in: 24; [4 4 4 1 4]\n",
            "Done in: 25; [4 4 4 1 4]\n",
            "Done in: 26; [4 4 4 1 4]\n",
            "Done in: 27; [4 4 4 1 4]\n",
            "Done in: 28; [4 4 4 1 4]\n",
            "Done in: 29; [ 4  4  4 -5  4]\n",
            "Done in: 30; [ 4  4  4 -5  4]\n",
            "Done in: 31; [ 4  4  4 -5  4]\n",
            "Done in: 32; [4 4 4 1 4]\n",
            "Done in: 33; [4 4 4 4 4]\n"
          ],
          "name": "stdout"
        },
        {
          "output_type": "display_data",
          "data": {
            "image/png": "[encoded data removed]",
            "text/plain": [
              "<Figure size 576x396 with 1 Axes>"
            ]
          },
          "metadata": {
            "tags": []
          }
        },
        {
          "output_type": "stream",
          "text": [
            " 21%|##        | 5199/25000 [48:46<4:31:15,  1.22episodes/s]"
          ],
          "name": "stderr"
        },
        {
          "output_type": "stream",
          "text": [
            "Done in: 1; [ 1 -5  1  1  1]\n",
            "Done in: 2; [1 1 1 1 1]\n",
            "Done in: 3; [1 1 1 1 1]\n",
            "Done in: 4; [1 1 1 1 1]\n",
            "Done in: 5; [1 1 1 1 1]\n",
            "Done in: 6; [1 1 1 1 1]\n",
            "Done in: 7; [1 1 1 1 1]\n",
            "Done in: 8; [1 1 1 1 1]\n",
            "Done in: 9; [1 1 1 1 1]\n",
            "Done in: 10; [-5  1  1  1  1]\n",
            "Done in: 11; [1 1 1 1 1]\n",
            "Done in: 12; [1 1 1 1 1]\n",
            "Done in: 13; [1 1 1 1 1]\n",
            "Done in: 14; [ 1 -6 -6  1  1]\n"
          ],
          "name": "stdout"
        },
        {
          "output_type": "display_data",
          "data": {
            "image/png": "[encoded data removed]",
            "text/plain": [
              "<Figure size 576x396 with 1 Axes>"
            ]
          },
          "metadata": {
            "tags": []
          }
        },
        {
          "output_type": "stream",
          "text": [
            " 21%|##1       | 5299/25000 [50:09<5:01:00,  1.09episodes/s]"
          ],
          "name": "stderr"
        },
        {
          "output_type": "stream",
          "text": [
            "Done in: 1; [ 1 -5  1  1  1]\n",
            "Done in: 2; [1 1 1 1 1]\n",
            "Done in: 3; [ 1  1  1  1 -5]\n",
            "Done in: 4; [1 1 1 1 1]\n",
            "Done in: 5; [1 1 1 1 1]\n",
            "Done in: 6; [1 1 1 1 1]\n",
            "Done in: 7; [1 1 1 1 1]\n",
            "Done in: 8; [1 1 1 1 1]\n",
            "Done in: 9; [1 1 1 1 1]\n",
            "Done in: 10; [1 1 1 1 1]\n",
            "Done in: 11; [1 1 1 1 1]\n",
            "Done in: 12; [1 1 1 1 1]\n",
            "Done in: 13; [1 1 1 1 1]\n",
            "Done in: 14; [1 1 1 1 1]\n",
            "Done in: 15; [1 1 1 1 1]\n",
            "Done in: 16; [1 1 1 1 1]\n",
            "Done in: 17; [1 1 1 1 1]\n",
            "Done in: 18; [1 1 1 1 1]\n",
            "Done in: 19; [ 1  4 -5  1  1]\n",
            "Done in: 20; [ 1  4 -5  1  4]\n",
            "Done in: 21; [ 1  4 -5  1  4]\n",
            "Done in: 22; [-5  4  4  1  4]\n",
            "Done in: 23; [-5  4  4  1  4]\n",
            "Done in: 24; [4 4 4 1 4]\n",
            "Done in: 25; [4 4 4 1 4]\n",
            "Done in: 26; [4 4 4 1 4]\n",
            "Done in: 27; [4 4 4 1 4]\n",
            "Done in: 28; [4 4 4 1 4]\n",
            "Done in: 29; [4 4 4 1 4]\n",
            "Done in: 30; [4 4 4 1 4]\n",
            "Done in: 31; [4 4 4 1 4]\n",
            "Done in: 32; [4 4 4 1 4]\n",
            "Done in: 33; [4 4 4 1 4]\n",
            "Done in: 34; [4 4 4 1 4]\n",
            "Done in: 35; [ 4  4  4 -5  4]\n",
            "Done in: 36; [4 4 4 4 4]\n"
          ],
          "name": "stdout"
        },
        {
          "output_type": "display_data",
          "data": {
            "image/png": "[encoded data removed]",
            "text/plain": [
              "<Figure size 576x396 with 1 Axes>"
            ]
          },
          "metadata": {
            "tags": []
          }
        },
        {
          "output_type": "stream",
          "text": [
            " 22%|##1       | 5399/25000 [51:37<5:23:40,  1.01episodes/s]"
          ],
          "name": "stderr"
        },
        {
          "output_type": "stream",
          "text": [
            "Done in: 1; [ 1 -5  1  1 -5]\n",
            "Done in: 2; [1 1 1 1 1]\n",
            "Done in: 3; [1 1 1 1 1]\n",
            "Done in: 4; [1 1 1 1 1]\n",
            "Done in: 5; [1 1 1 1 1]\n",
            "Done in: 6; [1 1 1 1 1]\n",
            "Done in: 7; [1 1 1 1 1]\n",
            "Done in: 8; [1 1 1 1 1]\n",
            "Done in: 9; [1 1 1 1 1]\n",
            "Done in: 10; [1 1 1 1 1]\n",
            "Done in: 11; [1 1 1 1 1]\n",
            "Done in: 12; [1 1 1 1 1]\n",
            "Done in: 13; [1 1 1 1 1]\n",
            "Done in: 14; [1 1 1 1 1]\n",
            "Done in: 15; [1 1 1 1 1]\n",
            "Done in: 16; [ 1 -5  1  1  1]\n",
            "Done in: 17; [1 1 1 1 1]\n",
            "Done in: 18; [1 1 1 1 1]\n",
            "Done in: 19; [-5 -5  1  1 -5]\n",
            "Done in: 20; [ 1  1  1  1 -5]\n",
            "Done in: 21; [-5 -5  1  1 -5]\n",
            "Done in: 22; [-5 -5  1  1 -5]\n",
            "Done in: 23; [-5  1  1  1 -5]\n",
            "Done in: 24; [4 1 1 4 4]\n",
            "Done in: 25; [4 1 1 4 4]\n",
            "Done in: 26; [4 4 1 4 4]\n",
            "Done in: 27; [4 4 1 4 4]\n",
            "Done in: 28; [4 4 1 4 4]\n",
            "Done in: 29; [4 4 1 4 4]\n",
            "Done in: 30; [4 4 1 4 4]\n",
            "Done in: 31; [4 4 1 4 4]\n",
            "Done in: 32; [ 4  4 -5  4  4]\n",
            "Done in: 33; [4 4 1 4 4]\n",
            "Done in: 34; [ 4  4 -5  4  4]\n",
            "Done in: 35; [4 4 1 4 4]\n",
            "Done in: 36; [4 4 1 4 4]\n",
            "Done in: 37; [4 4 4 4 4]\n"
          ],
          "name": "stdout"
        },
        {
          "output_type": "display_data",
          "data": {
            "image/png": "[encoded data removed]",
            "text/plain": [
              "<Figure size 576x396 with 1 Axes>"
            ]
          },
          "metadata": {
            "tags": []
          }
        },
        {
          "output_type": "stream",
          "text": [
            " 22%|##1       | 5499/25000 [53:06<5:10:24,  1.05episodes/s]"
          ],
          "name": "stderr"
        },
        {
          "output_type": "stream",
          "text": [
            "Done in: 1; [-5 -5  1  1 -5]\n",
            "Done in: 2; [1 1 1 1 1]\n",
            "Done in: 3; [1 1 1 1 1]\n",
            "Done in: 4; [1 1 1 1 1]\n",
            "Done in: 5; [1 1 1 1 1]\n",
            "Done in: 6; [1 1 1 1 1]\n",
            "Done in: 7; [-5  1  1 -5 -5]\n",
            "Done in: 8; [ 1  1  1 -5 -5]\n",
            "Done in: 9; [ 1  1  1 -5  1]\n",
            "Done in: 10; [ 1  1  1  1 -5]\n",
            "Done in: 11; [ 1  1  1  1 -5]\n",
            "Done in: 12; [1 1 1 1 1]\n",
            "Done in: 13; [1 1 1 1 1]\n",
            "Done in: 14; [1 1 1 1 1]\n",
            "Done in: 15; [1 1 1 1 1]\n",
            "Done in: 16; [1 1 1 1 1]\n",
            "Done in: 17; [1 1 1 1 1]\n",
            "Done in: 18; [1 1 1 1 1]\n",
            "Done in: 19; [-5  1  1  1  1]\n",
            "Done in: 20; [ 4 -5 -5  1  1]\n",
            "Done in: 21; [ 4  4 -5  1  1]\n",
            "Done in: 22; [ 4  4 -5  1  1]\n",
            "Done in: 23; [ 4  4  4  1 -5]\n",
            "Done in: 24; [4 4 4 1 1]\n",
            "Done in: 25; [4 4 4 1 1]\n",
            "Done in: 26; [4 4 4 1 4]\n",
            "Done in: 27; [4 4 4 1 4]\n",
            "Done in: 28; [4 4 4 1 4]\n",
            "Done in: 29; [4 4 4 1 4]\n",
            "Done in: 30; [4 4 4 1 4]\n",
            "Done in: 31; [4 4 4 1 4]\n",
            "Done in: 32; [4 4 4 1 4]\n",
            "Done in: 33; [4 4 4 1 4]\n",
            "Done in: 34; [4 4 4 1 4]\n",
            "Done in: 35; [4 4 4 1 4]\n",
            "Done in: 36; [ 4  4  4 -5  4]\n",
            "Done in: 37; [ 4  4  4 -5  4]\n",
            "Done in: 38; [ 4  4  4 -5  4]\n",
            "Done in: 39; [4 4 4 1 4]\n",
            "Done in: 40; [4 4 4 4 4]\n"
          ],
          "name": "stdout"
        },
        {
          "output_type": "display_data",
          "data": {
            "image/png": "[encoded data removed]",
            "text/plain": [
              "<Figure size 576x396 with 1 Axes>"
            ]
          },
          "metadata": {
            "tags": []
          }
        },
        {
          "output_type": "stream",
          "text": [
            " 22%|##2       | 5527/25000 [53:31<3:46:30,  1.43episodes/s]"
          ],
          "name": "stderr"
        },
        {
          "output_type": "error",
          "ename": "KeyboardInterrupt",
          "evalue": "ignored",
          "traceback": [
            "\u001b[0;31m---------------------------------------------------------------------------\u001b[0m",
            "\u001b[0;31mKeyboardInterrupt\u001b[0m                         Traceback (most recent call last)",
            "\u001b[0;32m<ipython-input-27-09b2f130f13b>\u001b[0m in \u001b[0;36m<module>\u001b[0;34m()\u001b[0m\n\u001b[1;32m     37\u001b[0m         \u001b[0;31m# Every step we update replay memory and train main network\u001b[0m\u001b[0;34m\u001b[0m\u001b[0;34m\u001b[0m\u001b[0;34m\u001b[0m\u001b[0m\n\u001b[1;32m     38\u001b[0m         \u001b[0magent\u001b[0m\u001b[0;34m.\u001b[0m\u001b[0mupdate_replay_memory\u001b[0m\u001b[0;34m(\u001b[0m\u001b[0;34m(\u001b[0m\u001b[0mcurrent_state\u001b[0m\u001b[0;34m,\u001b[0m \u001b[0maction\u001b[0m\u001b[0;34m,\u001b[0m \u001b[0mreward\u001b[0m\u001b[0;34m,\u001b[0m \u001b[0mnew_state\u001b[0m\u001b[0;34m,\u001b[0m \u001b[0mdone\u001b[0m\u001b[0;34m)\u001b[0m\u001b[0;34m)\u001b[0m\u001b[0;34m\u001b[0m\u001b[0;34m\u001b[0m\u001b[0m\n\u001b[0;32m---> 39\u001b[0;31m         \u001b[0magent\u001b[0m\u001b[0;34m.\u001b[0m\u001b[0mtrain\u001b[0m\u001b[0;34m(\u001b[0m\u001b[0mdone\u001b[0m\u001b[0;34m,\u001b[0m \u001b[0mstep\u001b[0m\u001b[0;34m)\u001b[0m\u001b[0;34m\u001b[0m\u001b[0;34m\u001b[0m\u001b[0m\n\u001b[0m\u001b[1;32m     40\u001b[0m \u001b[0;34m\u001b[0m\u001b[0m\n\u001b[1;32m     41\u001b[0m         \u001b[0mcurrent_state\u001b[0m \u001b[0;34m=\u001b[0m \u001b[0mnew_state\u001b[0m\u001b[0;34m\u001b[0m\u001b[0;34m\u001b[0m\u001b[0m\n",
            "\u001b[0;32m<ipython-input-24-aaf953f7a490>\u001b[0m in \u001b[0;36mtrain\u001b[0;34m(self, terminal_state, step)\u001b[0m\n\u001b[1;32m     89\u001b[0m         \u001b[0;31m# Fit on all samples as one batch, log only on terminal state\u001b[0m\u001b[0;34m\u001b[0m\u001b[0;34m\u001b[0m\u001b[0;34m\u001b[0m\u001b[0m\n\u001b[1;32m     90\u001b[0m         self.model.fit(np.array(X)/255, np.array(y), batch_size=MINIBATCH_SIZE, verbose=0, shuffle=False,\n\u001b[0;32m---> 91\u001b[0;31m                        callbacks=[self.tensorboard] if terminal_state else None)\n\u001b[0m\u001b[1;32m     92\u001b[0m \u001b[0;34m\u001b[0m\u001b[0m\n\u001b[1;32m     93\u001b[0m         \u001b[0;31m# Update target network counter every episode\u001b[0m\u001b[0;34m\u001b[0m\u001b[0;34m\u001b[0m\u001b[0;34m\u001b[0m\u001b[0m\n",
            "\u001b[0;32m/tensorflow-1.15.2/python3.6/keras/engine/training.py\u001b[0m in \u001b[0;36mfit\u001b[0;34m(self, x, y, batch_size, epochs, verbose, callbacks, validation_split, validation_data, shuffle, class_weight, sample_weight, initial_epoch, steps_per_epoch, validation_steps, validation_freq, max_queue_size, workers, use_multiprocessing, **kwargs)\u001b[0m\n\u001b[1;32m   1237\u001b[0m                                         \u001b[0msteps_per_epoch\u001b[0m\u001b[0;34m=\u001b[0m\u001b[0msteps_per_epoch\u001b[0m\u001b[0;34m,\u001b[0m\u001b[0;34m\u001b[0m\u001b[0;34m\u001b[0m\u001b[0m\n\u001b[1;32m   1238\u001b[0m                                         \u001b[0mvalidation_steps\u001b[0m\u001b[0;34m=\u001b[0m\u001b[0mvalidation_steps\u001b[0m\u001b[0;34m,\u001b[0m\u001b[0;34m\u001b[0m\u001b[0;34m\u001b[0m\u001b[0m\n\u001b[0;32m-> 1239\u001b[0;31m                                         validation_freq=validation_freq)\n\u001b[0m\u001b[1;32m   1240\u001b[0m \u001b[0;34m\u001b[0m\u001b[0m\n\u001b[1;32m   1241\u001b[0m     def evaluate(self,\n",
            "\u001b[0;32m/tensorflow-1.15.2/python3.6/keras/engine/training_arrays.py\u001b[0m in \u001b[0;36mfit_loop\u001b[0;34m(model, fit_function, fit_inputs, out_labels, batch_size, epochs, verbose, callbacks, val_function, val_inputs, shuffle, initial_epoch, steps_per_epoch, validation_steps, validation_freq)\u001b[0m\n\u001b[1;32m    194\u001b[0m                     \u001b[0mins_batch\u001b[0m\u001b[0;34m[\u001b[0m\u001b[0mi\u001b[0m\u001b[0;34m]\u001b[0m \u001b[0;34m=\u001b[0m \u001b[0mins_batch\u001b[0m\u001b[0;34m[\u001b[0m\u001b[0mi\u001b[0m\u001b[0;34m]\u001b[0m\u001b[0;34m.\u001b[0m\u001b[0mtoarray\u001b[0m\u001b[0;34m(\u001b[0m\u001b[0;34m)\u001b[0m\u001b[0;34m\u001b[0m\u001b[0;34m\u001b[0m\u001b[0m\n\u001b[1;32m    195\u001b[0m \u001b[0;34m\u001b[0m\u001b[0m\n\u001b[0;32m--> 196\u001b[0;31m                 \u001b[0mouts\u001b[0m \u001b[0;34m=\u001b[0m \u001b[0mfit_function\u001b[0m\u001b[0;34m(\u001b[0m\u001b[0mins_batch\u001b[0m\u001b[0;34m)\u001b[0m\u001b[0;34m\u001b[0m\u001b[0;34m\u001b[0m\u001b[0m\n\u001b[0m\u001b[1;32m    197\u001b[0m                 \u001b[0mouts\u001b[0m \u001b[0;34m=\u001b[0m \u001b[0mto_list\u001b[0m\u001b[0;34m(\u001b[0m\u001b[0mouts\u001b[0m\u001b[0;34m)\u001b[0m\u001b[0;34m\u001b[0m\u001b[0;34m\u001b[0m\u001b[0m\n\u001b[1;32m    198\u001b[0m                 \u001b[0;32mfor\u001b[0m \u001b[0ml\u001b[0m\u001b[0;34m,\u001b[0m \u001b[0mo\u001b[0m \u001b[0;32min\u001b[0m \u001b[0mzip\u001b[0m\u001b[0;34m(\u001b[0m\u001b[0mout_labels\u001b[0m\u001b[0;34m,\u001b[0m \u001b[0mouts\u001b[0m\u001b[0;34m)\u001b[0m\u001b[0;34m:\u001b[0m\u001b[0;34m\u001b[0m\u001b[0;34m\u001b[0m\u001b[0m\n",
            "\u001b[0;32m/tensorflow-1.15.2/python3.6/tensorflow_core/python/keras/backend.py\u001b[0m in \u001b[0;36m__call__\u001b[0;34m(self, inputs)\u001b[0m\n\u001b[1;32m   3474\u001b[0m \u001b[0;34m\u001b[0m\u001b[0m\n\u001b[1;32m   3475\u001b[0m     fetched = self._callable_fn(*array_vals,\n\u001b[0;32m-> 3476\u001b[0;31m                                 run_metadata=self.run_metadata)\n\u001b[0m\u001b[1;32m   3477\u001b[0m     \u001b[0mself\u001b[0m\u001b[0;34m.\u001b[0m\u001b[0m_call_fetch_callbacks\u001b[0m\u001b[0;34m(\u001b[0m\u001b[0mfetched\u001b[0m\u001b[0;34m[\u001b[0m\u001b[0;34m-\u001b[0m\u001b[0mlen\u001b[0m\u001b[0;34m(\u001b[0m\u001b[0mself\u001b[0m\u001b[0;34m.\u001b[0m\u001b[0m_fetches\u001b[0m\u001b[0;34m)\u001b[0m\u001b[0;34m:\u001b[0m\u001b[0;34m]\u001b[0m\u001b[0;34m)\u001b[0m\u001b[0;34m\u001b[0m\u001b[0;34m\u001b[0m\u001b[0m\n\u001b[1;32m   3478\u001b[0m     output_structure = nest.pack_sequence_as(\n",
            "\u001b[0;32m/tensorflow-1.15.2/python3.6/tensorflow_core/python/client/session.py\u001b[0m in \u001b[0;36m__call__\u001b[0;34m(self, *args, **kwargs)\u001b[0m\n\u001b[1;32m   1470\u001b[0m         ret = tf_session.TF_SessionRunCallable(self._session._session,\n\u001b[1;32m   1471\u001b[0m                                                \u001b[0mself\u001b[0m\u001b[0;34m.\u001b[0m\u001b[0m_handle\u001b[0m\u001b[0;34m,\u001b[0m \u001b[0margs\u001b[0m\u001b[0;34m,\u001b[0m\u001b[0;34m\u001b[0m\u001b[0;34m\u001b[0m\u001b[0m\n\u001b[0;32m-> 1472\u001b[0;31m                                                run_metadata_ptr)\n\u001b[0m\u001b[1;32m   1473\u001b[0m         \u001b[0;32mif\u001b[0m \u001b[0mrun_metadata\u001b[0m\u001b[0;34m:\u001b[0m\u001b[0;34m\u001b[0m\u001b[0;34m\u001b[0m\u001b[0m\n\u001b[1;32m   1474\u001b[0m           \u001b[0mproto_data\u001b[0m \u001b[0;34m=\u001b[0m \u001b[0mtf_session\u001b[0m\u001b[0;34m.\u001b[0m\u001b[0mTF_GetBuffer\u001b[0m\u001b[0;34m(\u001b[0m\u001b[0mrun_metadata_ptr\u001b[0m\u001b[0;34m)\u001b[0m\u001b[0;34m\u001b[0m\u001b[0;34m\u001b[0m\u001b[0m\n",
            "\u001b[0;31mKeyboardInterrupt\u001b[0m: "
          ]
        }
      ]
    },
    {
      "cell_type": "code",
      "metadata": {
        "id": "qbb3TBSKGF14"
      },
      "source": [
        "np.mean(np.array(ep_rewards))"
      ],
      "execution_count": null,
      "outputs": []
    },
    {
      "cell_type": "code",
      "metadata": {
        "id": "0jXlJqO-Zwtl",
        "colab": {
          "base_uri": "https://localhost:8080/",
          "height": 365
        },
        "outputId": "439837ce-5c4d-41e9-e8c9-ae6e0d859a76"
      },
      "source": [
        "plt.plot(np.mean(np.array(ep_rewards), axis=1))"
      ],
      "execution_count": null,
      "outputs": [
        {
          "output_type": "execute_result",
          "data": {
            "text/plain": [
              "[<matplotlib.lines.Line2D at 0x7f13626dcf60>]"
            ]
          },
          "metadata": {
            "tags": []
          },
          "execution_count": 28
        },
        {
          "output_type": "display_data",
          "data": {
            "image/png": "[encoded data removed]",
            "text/plain": [
              "<Figure size 576x396 with 1 Axes>"
            ]
          },
          "metadata": {
            "tags": []
          }
        }
      ]
    },
    {
      "cell_type": "code",
      "metadata": {
        "id": "zdlm-WkrJcWt"
      },
      "source": [
        "np.save(f'rewards_{MODEL_NAME}_{int(time.time())}.npy', ep_rewards)"
      ],
      "execution_count": null,
      "outputs": []
    },
    {
      "cell_type": "code",
      "metadata": {
        "id": "YLJnZ_Q_kra_"
      },
      "source": [
        "np.sort(ep_rewards[:60])"
      ],
      "execution_count": null,
      "outputs": []
    },
    {
      "cell_type": "code",
      "metadata": {
        "id": "_sg3Up_jk5fJ"
      },
      "source": [
        "np.sort(ep_rewards[-60:])"
      ],
      "execution_count": null,
      "outputs": []
    }
  ]
}